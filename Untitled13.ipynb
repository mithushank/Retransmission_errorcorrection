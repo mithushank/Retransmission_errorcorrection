{
  "cells": [
    {
      "cell_type": "markdown",
      "metadata": {
        "id": "view-in-github",
        "colab_type": "text"
      },
      "source": [
        "<a href=\"https://colab.research.google.com/github/mithushank/Retransmission_errorcorrection/blob/main/Untitled13.ipynb\" target=\"_parent\"><img src=\"https://colab.research.google.com/assets/colab-badge.svg\" alt=\"Open In Colab\"/></a>"
      ]
    },
    {
      "cell_type": "markdown",
      "metadata": {
        "id": "FtHVkoo82mAz"
      },
      "source": [
        "# This is my implementation\n",
        "If any one changing please comment or create your own version\n"
      ]
    },
    {
      "cell_type": "markdown",
      "metadata": {
        "id": "2cb8K0J5Vtm9"
      },
      "source": []
    },
    {
      "cell_type": "code",
      "execution_count": 3,
      "metadata": {
        "id": "csMm85Xncz99"
      },
      "outputs": [],
      "source": [
        "import tensorflow as tf\n",
        "from tensorflow import keras\n",
        "from tensorflow.keras import layers, models\n",
        "from tensorflow.keras.models import Model\n",
        "from keras.models import Sequential,Model\n",
        "from keras.layers import Dense\n",
        "\n",
        "import numpy as np\n",
        "import math\n",
        "import matplotlib.pyplot as plt"
      ]
    },
    {
      "cell_type": "markdown",
      "metadata": {
        "id": "ctyb2PyyUKUB"
      },
      "source": [
        "# Variables"
      ]
    },
    {
      "cell_type": "code",
      "execution_count": 6,
      "metadata": {
        "id": "eTlEUj8iUBAJ"
      },
      "outputs": [],
      "source": [
        "Number_channel_uses = 1 # it defines the number of symbols per messages. at a time one symbol can be transmitted"
      ]
    },
    {
      "cell_type": "code",
      "execution_count": 7,
      "metadata": {
        "id": "OjYVqighRYIx"
      },
      "outputs": [],
      "source": [
        "Eb_No = 10  # This should be a variable so that it can be used in the dictionary\n",
        "from scipy.stats import truncnorm\n",
        "from scipy.stats import uniform\n",
        "channel_parameters = {\n",
        "    \"r\"        : 4,                # For upsampling -> number of complex samples per symbol\n",
        "    \"Eb_No\"    : Eb_No,            # Energy per bit to noise power spectral density ratio\n",
        "    \"roll_off\" : 0.35,             # Roll off factor\n",
        "    \"num_taps\" : 31,               # L -> Number of taps (odd) for RRC filter\n",
        "    \"f_s\"      : 25e4,             # Sampling frequency\n",
        "    \"T_bound\"  : 1/25e4,           # 1/f_s (symbol duration in seconds)\n",
        "    \"time_delay\" : np.random.uniform(-1,1),  # Random time delay in the range [-1, 1]\n",
        "    \"CFO\"      : 5e3,              # Carrier Frequency Offset in Hz\n",
        "    \"CFO_std\"  : 5e3/25e4,         # Normalized Carrier Frequency Offset\n",
        "    \"noise_std\": 10**(-1.0 * Eb_No / 10),  # Noise standard deviation, calculated from Eb_No\n",
        "    \"phase_off\": uniform.rvs(scale=2*np.pi)  # Random phase offset in the range [0, 2π]\n",
        "}"
      ]
    },
    {
      "cell_type": "markdown",
      "metadata": {
        "id": "Ke69SZa8tK_j"
      },
      "source": [
        "# Basic Neural Network Model"
      ]
    },
    {
      "cell_type": "code",
      "execution_count": null,
      "metadata": {
        "colab": {
          "base_uri": "https://localhost:8080/"
        },
        "id": "-L0ukbFmk9LA",
        "outputId": "a09571a0-1ab2-486e-d64a-072eaf3e7129"
      },
      "outputs": [
        {
          "name": "stdout",
          "output_type": "stream",
          "text": [
            "Epoch 1/10\n",
            "\u001b[1m1/1\u001b[0m \u001b[32m━━━━━━━━━━━━━━━━━━━━\u001b[0m\u001b[37m\u001b[0m \u001b[1m1s\u001b[0m 1s/step - accuracy: 0.0000e+00 - loss: 0.6528\n",
            "Epoch 2/10\n",
            "\u001b[1m1/1\u001b[0m \u001b[32m━━━━━━━━━━━━━━━━━━━━\u001b[0m\u001b[37m\u001b[0m \u001b[1m0s\u001b[0m 40ms/step - accuracy: 0.0000e+00 - loss: 0.6419\n",
            "Epoch 3/10\n",
            "\u001b[1m1/1\u001b[0m \u001b[32m━━━━━━━━━━━━━━━━━━━━\u001b[0m\u001b[37m\u001b[0m \u001b[1m0s\u001b[0m 28ms/step - accuracy: 0.0000e+00 - loss: 0.6313\n",
            "Epoch 4/10\n",
            "\u001b[1m1/1\u001b[0m \u001b[32m━━━━━━━━━━━━━━━━━━━━\u001b[0m\u001b[37m\u001b[0m \u001b[1m0s\u001b[0m 29ms/step - accuracy: 0.0000e+00 - loss: 0.6209\n",
            "Epoch 5/10\n",
            "\u001b[1m1/1\u001b[0m \u001b[32m━━━━━━━━━━━━━━━━━━━━\u001b[0m\u001b[37m\u001b[0m \u001b[1m0s\u001b[0m 38ms/step - accuracy: 0.0000e+00 - loss: 0.6107\n",
            "Epoch 6/10\n",
            "\u001b[1m1/1\u001b[0m \u001b[32m━━━━━━━━━━━━━━━━━━━━\u001b[0m\u001b[37m\u001b[0m \u001b[1m0s\u001b[0m 30ms/step - accuracy: 0.0000e+00 - loss: 0.6006\n",
            "Epoch 7/10\n",
            "\u001b[1m1/1\u001b[0m \u001b[32m━━━━━━━━━━━━━━━━━━━━\u001b[0m\u001b[37m\u001b[0m \u001b[1m0s\u001b[0m 55ms/step - accuracy: 0.0000e+00 - loss: 0.5908\n",
            "Epoch 8/10\n",
            "\u001b[1m1/1\u001b[0m \u001b[32m━━━━━━━━━━━━━━━━━━━━\u001b[0m\u001b[37m\u001b[0m \u001b[1m0s\u001b[0m 57ms/step - accuracy: 0.0000e+00 - loss: 0.5811\n",
            "Epoch 9/10\n",
            "\u001b[1m1/1\u001b[0m \u001b[32m━━━━━━━━━━━━━━━━━━━━\u001b[0m\u001b[37m\u001b[0m \u001b[1m0s\u001b[0m 33ms/step - accuracy: 0.0000e+00 - loss: 0.5717\n",
            "Epoch 10/10\n",
            "\u001b[1m1/1\u001b[0m \u001b[32m━━━━━━━━━━━━━━━━━━━━\u001b[0m\u001b[37m\u001b[0m \u001b[1m0s\u001b[0m 28ms/step - accuracy: 0.0000e+00 - loss: 0.5624\n"
          ]
        },
        {
          "data": {
            "text/plain": [
              "<keras.src.callbacks.history.History at 0x7a430c6a3280>"
            ]
          },
          "execution_count": 9,
          "metadata": {},
          "output_type": "execute_result"
        }
      ],
      "source": [
        "bit_stream = [1,0,0,1,1,0,1,1,0,0,1,0,1,0,0,1] #bitstream need to be transmitted\n",
        "\n",
        "bitstream_array = np.array(bit_stream).reshape(1, -1)  # convert into 1 dimensional array\n",
        "out_put = [1,0,0,1]\n",
        "k = len(out_put)\n",
        "output_array = np.array(out_put).reshape(1, -1)\n",
        "\n",
        "model = keras.Sequential([\n",
        "    # layers.Flatten(input_shape=(16,)),\n",
        "    layers.Dense(16, activation='relu'),\n",
        "    layers.Dense(k, activation='sigmoid')\n",
        "])\n",
        "\n",
        "model.compile(optimizer='adam', loss='binary_crossentropy', metrics=['accuracy'])\n",
        "\n",
        "model.fit(bitstream_array, output_array, epochs=10, verbose=1)"
      ]
    },
    {
      "cell_type": "code",
      "execution_count": null,
      "metadata": {
        "id": "DHjxtOGk91bZ"
      },
      "outputs": [],
      "source": [
        "\"\"\"\n",
        "Sample custom dense layer have 3 parts:\n",
        "1. __init__\n",
        "2. build\n",
        "3. call\n",
        "\n",
        "optionally it can have config.This  use to update the waits and other stuffs\n",
        "\"\"\"\n",
        "\n",
        "class CustomDenseLayer(tf.keras.layers.Layer):\n",
        "  'It will initialize a instance in class'\n",
        "  def __init__(self, units, activation=None, kernel_regularizer=None):\n",
        "      super(CustomDenseLayer, self).__init__()\n",
        "      self.units = units\n",
        "      self.activation = tf.keras.activations.get(activation)\n",
        "      self.kernel_regularizer = tf.keras.regularizers.get(kernel_regularizer)\n",
        "\n",
        "  def build(self, input_shape):\n",
        "      self.kernel = self.add_weight(\n",
        "          shape=(input_shape[-1], self.units),\n",
        "          initializer=\"random_normal\",\n",
        "          regularizer=self.kernel_regularizer,\n",
        "          trainable=True,\n",
        "      )\n",
        "      self.bias = self.add_weight(\n",
        "          shape=(self.units,),\n",
        "          initializer=\"zeros\",\n",
        "          trainable=True,\n",
        "      )\n",
        "\n",
        "  def call(self, inputs):\n",
        "      x = tf.matmul(inputs, self.kernel) + self.bias\n",
        "      if self.activation is not None:\n",
        "          x = self.activation(x)\n",
        "      return x\n",
        "\n",
        "  def get_config(self):\n",
        "      config = super(CustomDenseLayer, self).get_config()\n",
        "      config.update({\n",
        "          \"units\": self.units,\n",
        "          \"activation\": tf.keras.activations.serialize(self.activation),\n",
        "          \"kernel_regularizer\": tf.keras.regularizers.serialize(self.kernel_regularizer),\n",
        "      })\n",
        "      return config\n",
        "\n",
        "\n"
      ]
    },
    {
      "cell_type": "code",
      "execution_count": null,
      "metadata": {
        "id": "EQDbGrJGPK76"
      },
      "outputs": [],
      "source": [
        "class power_normalization(tf.keras.layers.Layer):\n",
        "  def __init__(self, **kwargs):\n",
        "    super(power_normalization, self).__init__()\n",
        "  def call(self, inputs):\n",
        "    out= tf.nn.l2_normalize(tf.reshape(inputs,(-1,2)), axis=-1) # it normalize the power of the iq samples to 1\n",
        "    out = tf.reshape(out, (-1,2*Num_channel_uses))\n",
        "    return out\n",
        "  def config(self):\n",
        "    config = super(power_normalization, self).get_config()\n",
        "    return config\n",
        "\n",
        "class customNoise(tf.keras.layers.Layer):\n",
        "  def __init__(self, mean = 0.0, stddev = 1.0, **kwargs):\n",
        "    super(customNoise, self).__init__(**kwargs)\n",
        "    self.mean = mean\n",
        "    self.stddev = stddev\n",
        "  def call(self, inputs, training=None):\n",
        "    noise = tf.random.normal(shape=tf.shape(inputs), mean=self.mean, stddev=self.stddev, dtype=tf.float32)\n",
        "    return inputs + noise\n",
        "  def config(self):\n",
        "    config = super(customNoise, self).get_config()\n",
        "    config.update({'mean': self.mean, 'stddev': self.stddev})\n",
        "    return config\n",
        "\n",
        "class EmbeddingLayer(tf.keras.layers.Layer):\n",
        "  def __init__(self,k =4, **kwargs):\n",
        "    super(EmbeddingLayer, self).__init__(**kwargs)\n",
        "    self.k = k\n",
        "  def call(self, inputs):\n",
        "    inputs = inputs.reshape(1,-1)\n",
        "    out = []\n",
        "    for x in inputs:\n",
        "      x = [int(i) for i in bin(2)[2:]]\n",
        "      if len(x) < k:\n",
        "        for i in range(k-len(x)):\n",
        "          x.insert(0,0)\n",
        "      out.append(x)\n",
        "    out = tf.convert_to_tensor(out)\n",
        "    return out\n",
        "\n"
      ]
    },
    {
      "cell_type": "code",
      "execution_count": null,
      "metadata": {
        "colab": {
          "base_uri": "https://localhost:8080/"
        },
        "id": "LKoO6NI8hmQ2",
        "outputId": "dc04c5e2-a90d-453b-a43a-0e8b6a6039c0"
      },
      "outputs": [
        {
          "data": {
            "text/plain": [
              "array([[1, 0, 1, 0, 1, 0, 1, 0]])"
            ]
          },
          "execution_count": 12,
          "metadata": {},
          "output_type": "execute_result"
        }
      ],
      "source": [
        "bit = [1,0,1,0,1,0,1,0]\t#input bitstream\n",
        "bitstream_array = np.array(bit).reshape(1, -1)  # convert into 1 dimensional array\n",
        "bitstream_array"
      ]
    },
    {
      "cell_type": "code",
      "execution_count": null,
      "metadata": {
        "id": "CcOfyITPS4hA"
      },
      "outputs": [],
      "source": [
        "# Upsample\n",
        "def upsampling(inp,r):\n",
        "  com_reshape = tf.reshape(inp,[-1,1])\n",
        "  padding = tf.constant([[0,0],[0,r-1]])\n",
        "  upsampled = tf.pad(com_reshape,padding,\"CONSTANT\")\n",
        "  return tf.reshape(upsampled,[-1])\n",
        "\n",
        "y = upsampling(bitstream_array,2)\n",
        "\n",
        "k = 3\n",
        "M = 2**k\n",
        "NUM_CHANNEL_USES = 1\n",
        "block_size = 320\n",
        "\n",
        "model_training_num_of_frames = 10**3#10**4\n",
        "model_validating_num_of_frames = 10**2#10**3\n",
        "\n",
        "n_train = block_size * model_training_num_of_frames\n",
        "n_val   = block_size * model_validating_num_of_frames\n",
        "\n",
        "# Geanerating dataset\n",
        "model_output_num_of_frames = 10**5\n",
        "n_out = block_size * model_output_num_of_frames\n",
        "\n",
        "num_epoches = 10\n",
        "\n",
        "x_train = np.array(np.random.rand(n_train,k)<0.5).astype(np.float32)\n",
        "y_train = x_train\n",
        "\n",
        "x_val = np.array(np.random.rand(n_val,k)<0.5).astype(np.float32)\n",
        "y_val = x_val"
      ]
    },
    {
      "cell_type": "code",
      "execution_count": null,
      "metadata": {
        "colab": {
          "base_uri": "https://localhost:8080/"
        },
        "id": "rjWhVtSJlXTt",
        "outputId": "854c1cee-8afb-48ec-ad24-2da26a6b3f4e"
      },
      "outputs": [
        {
          "data": {
            "text/plain": [
              "array([[0., 1., 1.],\n",
              "       [0., 1., 1.],\n",
              "       [0., 0., 1.],\n",
              "       ...,\n",
              "       [1., 0., 0.],\n",
              "       [0., 0., 1.],\n",
              "       [1., 1., 0.]], dtype=float32)"
            ]
          },
          "execution_count": 14,
          "metadata": {},
          "output_type": "execute_result"
        }
      ],
      "source": [
        "x_train"
      ]
    },
    {
      "cell_type": "code",
      "execution_count": null,
      "metadata": {
        "id": "vP9r7SKkwL3f"
      },
      "outputs": [],
      "source": [
        "# define a dataset parameters\n",
        "N = 7   # number of channel use\n",
        "M = 16  # Number of total messages can  be transmitted\n",
        "K = int(np.log2(M))  # block size\n",
        "batch_size = 320\n",
        "# Eb_No = 10\n",
        "\n",
        "# Create Dataset in onehot vector\n",
        "alphabet_size = pow(2, K)\n",
        "alphabet = np.eye(alphabet_size, dtype = 'float32')\n",
        "\n",
        "train_dataset = np.transpose(np.tile(alphabet, int(batch_size)))\n",
        "test_dataset = np.transpose(np.tile(alphabet, int(batch_size * 1000)))"
      ]
    },
    {
      "cell_type": "code",
      "execution_count": null,
      "metadata": {
        "colab": {
          "base_uri": "https://localhost:8080/"
        },
        "id": "9bXz-YuqwMZF",
        "outputId": "c891ccc9-446b-4d95-e2e1-7c3c5a0aa9a6"
      },
      "outputs": [
        {
          "name": "stdout",
          "output_type": "stream",
          "text": [
            "(4, 2)\n",
            "Normalize the whole input power to 1\n",
            "Input:\n",
            "[[1. 0.]\n",
            " [0. 1.]\n",
            " [1. 0.]\n",
            " [0. 1.]]\n",
            "Output:\n",
            "[[0.5 0. ]\n",
            " [0.  0.5]\n",
            " [0.5 0. ]\n",
            " [0.  0.5]]\n"
          ]
        }
      ],
      "source": [
        "import tensorflow as tf\n",
        "\n",
        "class Normalization(tf.keras.layers.Layer):\n",
        "    def __init__(self, **kwargs):\n",
        "        super(Normalization, self).__init__(**kwargs)\n",
        "\n",
        "    def call(self, input):\n",
        "        shape = input.shape\n",
        "        print(shape)\n",
        "        out = tf.nn.l2_normalize(tf.reshape(input, -1), axis=-1, epsilon=1e-6)\n",
        "        out = tf.reshape(out, shape)\n",
        "        print(\"Normalize the whole input power to 1\")\n",
        "        return out\n",
        "\n",
        "    def get_config(self):\n",
        "        return super(Normalization, self).get_config()\n",
        "\n",
        "# Test the Normalization layer with one-hot vectors\n",
        "# Define the one-hot vectors\n",
        "input_data = tf.constant([[1.0, 0.0], [0.0, 1.0], [1.0, 0.0], [0.0, 1.0]], dtype=tf.float32)\n",
        "\n",
        "# Create an instance of the Normalization layer\n",
        "normalization_layer = Normalization()\n",
        "\n",
        "# Apply the layer to the input data\n",
        "output = normalization_layer(input_data)\n",
        "\n",
        "# Print the input and output to see the normalization effect\n",
        "print(\"Input:\")\n",
        "print(input_data.numpy())\n",
        "print(\"Output:\")\n",
        "print(output.numpy())\n",
        "\n"
      ]
    },
    {
      "cell_type": "code",
      "execution_count": null,
      "metadata": {
        "colab": {
          "base_uri": "https://localhost:8080/",
          "height": 356
        },
        "id": "XzndbY-RG9Ez",
        "outputId": "faf9fdd2-9d54-4106-8ee0-bfe2c0894a63"
      },
      "outputs": [
        {
          "ename": "ValueError",
          "evalue": "Could not interpret activation function identifier: 4",
          "output_type": "error",
          "traceback": [
            "\u001b[0;31m---------------------------------------------------------------------------\u001b[0m",
            "\u001b[0;31mValueError\u001b[0m                                Traceback (most recent call last)",
            "\u001b[0;32m<ipython-input-17-084fdbe3e04d>\u001b[0m in \u001b[0;36m<cell line: 46>\u001b[0;34m()\u001b[0m\n\u001b[1;32m     44\u001b[0m \u001b[0;31m# Instantiate and train the autoencoder\u001b[0m\u001b[0;34m\u001b[0m\u001b[0;34m\u001b[0m\u001b[0m\n\u001b[1;32m     45\u001b[0m \u001b[0mae\u001b[0m \u001b[0;34m=\u001b[0m \u001b[0mAE\u001b[0m\u001b[0;34m(\u001b[0m\u001b[0mtrain_data\u001b[0m\u001b[0;34m,\u001b[0m \u001b[0mtest_data\u001b[0m\u001b[0;34m,\u001b[0m \u001b[0minput_dim\u001b[0m\u001b[0;34m=\u001b[0m\u001b[0;36m16\u001b[0m\u001b[0;34m,\u001b[0m \u001b[0menc_dim\u001b[0m\u001b[0;34m=\u001b[0m\u001b[0;36m8\u001b[0m\u001b[0;34m,\u001b[0m \u001b[0mact_fun\u001b[0m\u001b[0;34m=\u001b[0m\u001b[0;34m'relu'\u001b[0m\u001b[0;34m)\u001b[0m\u001b[0;34m\u001b[0m\u001b[0;34m\u001b[0m\u001b[0m\n\u001b[0;32m---> 46\u001b[0;31m \u001b[0mautoencoder_model\u001b[0m \u001b[0;34m=\u001b[0m \u001b[0mae\u001b[0m\u001b[0;34m.\u001b[0m\u001b[0mtrain\u001b[0m\u001b[0;34m(\u001b[0m\u001b[0mepochs\u001b[0m\u001b[0;34m=\u001b[0m\u001b[0;36m5\u001b[0m\u001b[0;34m,\u001b[0m \u001b[0mbatch_size\u001b[0m\u001b[0;34m=\u001b[0m\u001b[0;36m16\u001b[0m\u001b[0;34m)\u001b[0m\u001b[0;34m\u001b[0m\u001b[0;34m\u001b[0m\u001b[0m\n\u001b[0m\u001b[1;32m     47\u001b[0m \u001b[0;34m\u001b[0m\u001b[0m\n\u001b[1;32m     48\u001b[0m \u001b[0;31m# Evaluate the model\u001b[0m\u001b[0;34m\u001b[0m\u001b[0;34m\u001b[0m\u001b[0m\n",
            "\u001b[0;32m<ipython-input-17-084fdbe3e04d>\u001b[0m in \u001b[0;36mtrain\u001b[0;34m(self, epochs, batch_size)\u001b[0m\n\u001b[1;32m     29\u001b[0m \u001b[0;34m\u001b[0m\u001b[0m\n\u001b[1;32m     30\u001b[0m     \u001b[0;32mdef\u001b[0m \u001b[0mtrain\u001b[0m\u001b[0;34m(\u001b[0m\u001b[0mself\u001b[0m\u001b[0;34m,\u001b[0m \u001b[0mepochs\u001b[0m\u001b[0;34m=\u001b[0m\u001b[0;36m10\u001b[0m\u001b[0;34m,\u001b[0m \u001b[0mbatch_size\u001b[0m\u001b[0;34m=\u001b[0m\u001b[0;36m32\u001b[0m\u001b[0;34m)\u001b[0m\u001b[0;34m:\u001b[0m\u001b[0;34m\u001b[0m\u001b[0;34m\u001b[0m\u001b[0m\n\u001b[0;32m---> 31\u001b[0;31m         \u001b[0mautoencoder\u001b[0m \u001b[0;34m=\u001b[0m \u001b[0mself\u001b[0m\u001b[0;34m.\u001b[0m\u001b[0mAE_implement\u001b[0m\u001b[0;34m(\u001b[0m \u001b[0;36m4\u001b[0m\u001b[0;34m,\u001b[0m \u001b[0;36m4\u001b[0m \u001b[0;34m)\u001b[0m\u001b[0;34m\u001b[0m\u001b[0;34m\u001b[0m\u001b[0m\n\u001b[0m\u001b[1;32m     32\u001b[0m         autoencoder.fit(self.train_data, self.train_data,\n\u001b[1;32m     33\u001b[0m                         \u001b[0mepochs\u001b[0m\u001b[0;34m=\u001b[0m\u001b[0mepochs\u001b[0m\u001b[0;34m,\u001b[0m \u001b[0mbatch_size\u001b[0m\u001b[0;34m=\u001b[0m\u001b[0mbatch_size\u001b[0m\u001b[0;34m,\u001b[0m\u001b[0;34m\u001b[0m\u001b[0;34m\u001b[0m\u001b[0m\n",
            "\u001b[0;32m<ipython-input-17-084fdbe3e04d>\u001b[0m in \u001b[0;36mAE_implement\u001b[0;34m(input_dim, enc_dim, act_fun)\u001b[0m\n\u001b[1;32m     10\u001b[0m \u001b[0;34m\u001b[0m\u001b[0m\n\u001b[1;32m     11\u001b[0m         Autoencoder = Sequential([\n\u001b[0;32m---> 12\u001b[0;31m             \u001b[0mDense\u001b[0m\u001b[0;34m(\u001b[0m\u001b[0minput_dim\u001b[0m\u001b[0;34m,\u001b[0m\u001b[0mactivation\u001b[0m\u001b[0;34m=\u001b[0m\u001b[0mact_fun\u001b[0m\u001b[0;34m,\u001b[0m \u001b[0mname\u001b[0m \u001b[0;34m=\u001b[0m\u001b[0;34m\"Input\"\u001b[0m \u001b[0;34m)\u001b[0m\u001b[0;34m,\u001b[0m\u001b[0;34m\u001b[0m\u001b[0;34m\u001b[0m\u001b[0m\n\u001b[0m\u001b[1;32m     13\u001b[0m             \u001b[0mDense\u001b[0m\u001b[0;34m(\u001b[0m\u001b[0;36m2\u001b[0m\u001b[0;34m**\u001b[0m\u001b[0;34m(\u001b[0m\u001b[0minput_dim\u001b[0m\u001b[0;34m)\u001b[0m\u001b[0;34m,\u001b[0m\u001b[0mactivation\u001b[0m\u001b[0;34m=\u001b[0m\u001b[0mact_fun\u001b[0m\u001b[0;34m,\u001b[0m\u001b[0mname\u001b[0m\u001b[0;34m=\u001b[0m\u001b[0;34m\"encoder\"\u001b[0m\u001b[0;34m)\u001b[0m\u001b[0;34m,\u001b[0m\u001b[0;34m\u001b[0m\u001b[0;34m\u001b[0m\u001b[0m\n\u001b[1;32m     14\u001b[0m             \u001b[0mDense\u001b[0m\u001b[0;34m(\u001b[0m\u001b[0;36m2\u001b[0m\u001b[0;34m**\u001b[0m\u001b[0;34m(\u001b[0m\u001b[0minput_dim\u001b[0m\u001b[0;34m)\u001b[0m\u001b[0;34m,\u001b[0m\u001b[0mactivation\u001b[0m\u001b[0;34m=\u001b[0m\u001b[0mact_fun\u001b[0m\u001b[0;34m,\u001b[0m\u001b[0mname\u001b[0m \u001b[0;34m=\u001b[0m\u001b[0;34m\"middle1\"\u001b[0m\u001b[0;34m)\u001b[0m\u001b[0;34m,\u001b[0m\u001b[0;34m\u001b[0m\u001b[0;34m\u001b[0m\u001b[0m\n",
            "\u001b[0;32m/usr/local/lib/python3.10/dist-packages/keras/src/layers/core/dense.py\u001b[0m in \u001b[0;36m__init__\u001b[0;34m(self, units, activation, use_bias, kernel_initializer, bias_initializer, kernel_regularizer, bias_regularizer, activity_regularizer, kernel_constraint, bias_constraint, lora_rank, **kwargs)\u001b[0m\n\u001b[1;32m     87\u001b[0m         \u001b[0msuper\u001b[0m\u001b[0;34m(\u001b[0m\u001b[0;34m)\u001b[0m\u001b[0;34m.\u001b[0m\u001b[0m__init__\u001b[0m\u001b[0;34m(\u001b[0m\u001b[0mactivity_regularizer\u001b[0m\u001b[0;34m=\u001b[0m\u001b[0mactivity_regularizer\u001b[0m\u001b[0;34m,\u001b[0m \u001b[0;34m**\u001b[0m\u001b[0mkwargs\u001b[0m\u001b[0;34m)\u001b[0m\u001b[0;34m\u001b[0m\u001b[0;34m\u001b[0m\u001b[0m\n\u001b[1;32m     88\u001b[0m         \u001b[0mself\u001b[0m\u001b[0;34m.\u001b[0m\u001b[0munits\u001b[0m \u001b[0;34m=\u001b[0m \u001b[0munits\u001b[0m\u001b[0;34m\u001b[0m\u001b[0;34m\u001b[0m\u001b[0m\n\u001b[0;32m---> 89\u001b[0;31m         \u001b[0mself\u001b[0m\u001b[0;34m.\u001b[0m\u001b[0mactivation\u001b[0m \u001b[0;34m=\u001b[0m \u001b[0mactivations\u001b[0m\u001b[0;34m.\u001b[0m\u001b[0mget\u001b[0m\u001b[0;34m(\u001b[0m\u001b[0mactivation\u001b[0m\u001b[0;34m)\u001b[0m\u001b[0;34m\u001b[0m\u001b[0;34m\u001b[0m\u001b[0m\n\u001b[0m\u001b[1;32m     90\u001b[0m         \u001b[0mself\u001b[0m\u001b[0;34m.\u001b[0m\u001b[0muse_bias\u001b[0m \u001b[0;34m=\u001b[0m \u001b[0muse_bias\u001b[0m\u001b[0;34m\u001b[0m\u001b[0;34m\u001b[0m\u001b[0m\n\u001b[1;32m     91\u001b[0m         \u001b[0mself\u001b[0m\u001b[0;34m.\u001b[0m\u001b[0mkernel_initializer\u001b[0m \u001b[0;34m=\u001b[0m \u001b[0minitializers\u001b[0m\u001b[0;34m.\u001b[0m\u001b[0mget\u001b[0m\u001b[0;34m(\u001b[0m\u001b[0mkernel_initializer\u001b[0m\u001b[0;34m)\u001b[0m\u001b[0;34m\u001b[0m\u001b[0;34m\u001b[0m\u001b[0m\n",
            "\u001b[0;32m/usr/local/lib/python3.10/dist-packages/keras/src/activations/__init__.py\u001b[0m in \u001b[0;36mget\u001b[0;34m(identifier)\u001b[0m\n\u001b[1;32m    102\u001b[0m     \u001b[0;32mif\u001b[0m \u001b[0mcallable\u001b[0m\u001b[0;34m(\u001b[0m\u001b[0mobj\u001b[0m\u001b[0;34m)\u001b[0m\u001b[0;34m:\u001b[0m\u001b[0;34m\u001b[0m\u001b[0;34m\u001b[0m\u001b[0m\n\u001b[1;32m    103\u001b[0m         \u001b[0;32mreturn\u001b[0m \u001b[0mobj\u001b[0m\u001b[0;34m\u001b[0m\u001b[0;34m\u001b[0m\u001b[0m\n\u001b[0;32m--> 104\u001b[0;31m     raise ValueError(\n\u001b[0m\u001b[1;32m    105\u001b[0m         \u001b[0;34mf\"Could not interpret activation function identifier: {identifier}\"\u001b[0m\u001b[0;34m\u001b[0m\u001b[0;34m\u001b[0m\u001b[0m\n\u001b[1;32m    106\u001b[0m     )\n",
            "\u001b[0;31mValueError\u001b[0m: Could not interpret activation function identifier: 4"
          ]
        }
      ],
      "source": [
        "class AE:\n",
        "    def __init__(self,train_data,test_data,input_dim, enc_dim,act_fun='relu'):\n",
        "        self.train_data = train_data\n",
        "        self.test_data = test_data\n",
        "        self.input_dim = input_dim\n",
        "        self.encoder_dim = enc_dim\n",
        "        self.act_fun = act_fun\n",
        "\n",
        "    def AE_implement(input_dim, enc_dim,act_fun='relu'):\n",
        "\n",
        "        Autoencoder = Sequential([\n",
        "            Dense(input_dim,activation=act_fun, name =\"Input\" ),\n",
        "            Dense(2**(input_dim),activation=act_fun,name=\"encoder\"),\n",
        "            Dense(2**(input_dim),activation=act_fun,name =\"middle1\"),\n",
        "            Dense(enc_dim,activation=act_fun,name='middle2'),\n",
        "            Normalization_L1(),\n",
        "\n",
        "            # Normalization Layer\n",
        "\n",
        "            #decoder layers\n",
        "            Dense(enc_dim, activation= 'relu',name = \"decoder1\"),\n",
        "            Dense(2**(input_dim),activation=act_fun,name='decoder2'),\n",
        "            Dense(2**(input_dim),activation='softmax',name='Output Layer')\n",
        "\n",
        "        ])\n",
        "\n",
        "        autoencoder.compile(optimizer='adam', loss='categorical_crossentropy', metrics=['accuracy'])\n",
        "        return autoencoder\n",
        "\n",
        "    def train(self, epochs=10, batch_size=32):\n",
        "        autoencoder = self.AE_implement( 4, 4 )\n",
        "        autoencoder.fit(self.train_data, self.train_data,\n",
        "                        epochs=epochs, batch_size=batch_size,\n",
        "                        validation_data=(self.test_data, self.test_data))\n",
        "        return autoencoder\n",
        "\n",
        "# Example to test the AE class\n",
        "\n",
        "# Generate some dummy data\n",
        "import numpy as np\n",
        "train_data = np.random.random((1000, 16))\n",
        "test_data = np.random.random((200, 16))\n",
        "\n",
        "# Instantiate and train the autoencoder\n",
        "ae = AE(train_data, test_data, input_dim=16, enc_dim=8, act_fun='relu')\n",
        "autoencoder_model = ae.train(epochs=5, batch_size=16)\n",
        "\n",
        "# Evaluate the model\n",
        "loss, accuracy = autoencoder_model.evaluate(test_data, test_data)\n",
        "print(f\"Test Loss: {loss:.4f}, Test Accuracy: {accuracy:.4f}\")\n"
      ]
    },
    {
      "cell_type": "markdown",
      "metadata": {
        "id": "rxy-ACpEjGNq"
      },
      "source": [
        "# 2nd paper implementation"
      ]
    },
    {
      "cell_type": "code",
      "execution_count": 19,
      "metadata": {
        "colab": {
          "base_uri": "https://localhost:8080/",
          "height": 504
        },
        "id": "-P18yQa9jLc0",
        "outputId": "1bfd8d5f-dde4-4b8e-83e1-c7bdbb2512ba"
      },
      "outputs": [
        {
          "output_type": "stream",
          "name": "stdout",
          "text": [
            "Input signal length: 1\n",
            "Expected output length: 36\n",
            "Actual filtered signal length: 36\n"
          ]
        },
        {
          "output_type": "display_data",
          "data": {
            "text/plain": [
              "<Figure size 640x480 with 1 Axes>"
            ],
            "image/png": "[encoded data removed]"
          },
          "metadata": {}
        }
      ],
      "source": [
        "# upsampling\n",
        "\n",
        "# Function to perform upsampling by a factor of r\n",
        "def upsampling(inp, r):\n",
        "    com_reshape = tf.reshape(inp, [-1, 1])\n",
        "    padding = tf.constant([[0, 0], [0, r - 1]])\n",
        "    upsampled = tf.pad(com_reshape, padding, mode=\"CONSTANT\")\n",
        "    upsampled = tf.reshape(upsampled, [-1])  # Flatten back to 1D\n",
        "    return upsampled\n",
        "\n",
        "# Function to perform upsampling on IQ signals\n",
        "def upsample_iq(inp, r):\n",
        "    real = inp[:, 0]  # Real part\n",
        "    imag = inp[:, 1]  # Imaginary part\n",
        "\n",
        "    # Upsample both real and imaginary parts\n",
        "    real_up = upsampling(real, r)\n",
        "    imag_up = upsampling(imag, r)\n",
        "\n",
        "    # Combine the upsampled real and imaginary parts\n",
        "    upsampled = tf.stack([real_up, imag_up], axis=1)\n",
        "    return upsampled\n",
        "\n",
        "# Function to do pulse shaping with NRRC code\n",
        "import numpy as np\n",
        "import tensorflow as tf\n",
        "from scipy.signal import lfilter\n",
        "\n",
        "# Function to create a normalized RRC filter\n",
        "def rrc_filter(alpha, sps, num_taps, ts = 1):\n",
        "    \"\"\"\n",
        "    Create a root-raised cosine (RRC) filter.\n",
        "\n",
        "    Args:\n",
        "        ts: Sampling period (default is 1).\n",
        "        alpha: Roll-off factor (0 <= alpha <= 1).\n",
        "        sps: Samples per symbol (upsampling factor).\n",
        "        num_taps: Number of filter taps (should be odd).\n",
        "\n",
        "    Returns:\n",
        "        RRC filter coefficients.\n",
        "    \"\"\"\n",
        "    t = np.linspace(-num_taps//2, num_taps//2 + 1,num_taps)\n",
        "    rrc = np.zeros_like(t)\n",
        "\n",
        "    for i in range(len(t)):\n",
        "        if t[i] == 0.0:\n",
        "            rrc[i] = (1.0 - alpha + 4 * alpha / np.pi)/ts\n",
        "        elif np.abs(t[i]) == ts / (4 * alpha):\n",
        "            rrc[i] = (alpha /( np.sqrt(2)*ts)) * \\\n",
        "                     ((1 + 2/np.pi) * np.sin(np.pi / (4 * alpha)) +\n",
        "                      (1 - 2/np.pi) * np.cos(np.pi / (4 * alpha)))\n",
        "        else:\n",
        "            rrc[i] = (np.sin(np.pi * (t[i]/ts) * (1 - alpha)) +\n",
        "                      4 * alpha * (t[i]/ts) * np.cos(np.pi * (t[i]/ts) * (1 + alpha))) / \\\n",
        "                     (np.pi * t[i] * (1 - (4 * alpha * (t[i]/ts))**2))\n",
        "\n",
        "    # Normalize filter coefficients to ensure unit energy\n",
        "    rrc = rrc / np.sqrt(np.sum(rrc**2))\n",
        "    rrc = tf.constant(rrc, dtype=tf.float32)\n",
        "    # plt.stem(t,rrc)  # Plot for visualization\n",
        "    # plt.title(f\"Time_delay = {10}\")\n",
        "    return rrc\n",
        "\n",
        "\n",
        "# Function to apply upsampling and filtering using conv1d\n",
        "def upsample_and_filter(signal, r, alpha, num_taps):\n",
        "    # Upsample the signal\n",
        "    upsampled_signal = upsample_iq(signal, r)\n",
        "\n",
        "    # Create the RRC filter\n",
        "    rrc = rrc_filter(alpha, r, num_taps)\n",
        "\n",
        "    # Add a batch and channel dimension for conv1d\n",
        "    upsampled_signal = tf.expand_dims(upsampled_signal, axis=0)  # Shape: (1, length, 2)\n",
        "    rrc = tf.reshape(rrc, [-1, 1, 1])  # Shape: (filter_length, 1, 1)\n",
        "\n",
        "    padding_size = num_taps//2\n",
        "    paddings = tf.constant([[0, 0], [padding_size, padding_size], [0, 0]])\n",
        "    padded_real = tf.pad(upsampled_signal[:, :, 0:1], paddings, \"CONSTANT\")\n",
        "    padded_imag = tf.pad(upsampled_signal[:, :, 1:2], paddings, \"CONSTANT\")\n",
        "    upsampled_signal = tf.concat([padded_real, padded_imag], axis=2)\n",
        "    # Apply the RRC filter using conv1d\n",
        "    real_filtered = tf.nn.conv1d(upsampled_signal[:, :, 0:1], rrc, stride=1, padding='SAME')\n",
        "    imag_filtered = tf.nn.conv1d(upsampled_signal[:, :, 1:2], rrc, stride=1, padding='SAME')\n",
        "\n",
        "    # Combine filtered real and imaginary parts\n",
        "    filtered_signal = tf.concat([real_filtered, imag_filtered], axis=2)\n",
        "    filtered_signal = tf.squeeze(filtered_signal, axis=0)  # Remove the batch dimension\n",
        "\n",
        "    return filtered_signal\n",
        "\n",
        "def time_offset(sampling_time = 10 ):\n",
        "  t_offset = np.random.uniform(-sampling_time//2, sampling_time//2)\n",
        "  return t_offset\n",
        "\n",
        "# def signal_sample(received_signal,fs=1,s_rate = 10,num_taps\n",
        "\n",
        "# def signal_sample(received_signal,fs=1,s_rate = 10,num_taps):\n",
        "#     sampling_rate = s_rate*fs\n",
        "#     signal_sample = received_signal[::sampling_rate]\n",
        "\n",
        "#     x_axis = np.arange(-num_taps//2, num_taps//2 + 1) / s_rate\n",
        "#     plt.stem(x_axis[:len(signal_sample)], signal_sample)  # Plot for visualization\n",
        "#     plt.title(f\"Time_delay = {10}\")\n",
        "#     return signal_sample\n",
        "\n",
        "\n",
        "def pulse_shape_decode(received_signal, fs, alpha, num_taps):\n",
        "    # fs  = sampling frequency\n",
        "    # get the samples from received signal tapping\n",
        "\n",
        "\n",
        "    return None\n",
        "\n",
        "\n",
        "\n",
        "# Example usage:\n",
        "\n",
        "# Define parameters\n",
        "r = 6  # Upsampling factor\n",
        "alpha = 0.35  # Roll-off factor\n",
        "num_taps = 31  # Number of filter taps (should be odd)\n",
        "\n",
        "# # Example input: Complex signal with real and imaginary parts\n",
        "# input_signal = tf.constant([[1.0, -1.0]])\n",
        "\n",
        "# # Apply upsampling and RRC filtering\n",
        "# filtered_signal = upsample_and_filter(input_signal, r, alpha, num_taps)\n",
        "\n",
        "# filtered_signal_real = filtered_signal[:, 0].numpy()\n",
        "# # sampled_signal = signal_sample(filtered_signal_real,fs=1,s_rate = 10)\n",
        "\n",
        "\n",
        "# # Generate x-axis data with matching length\n",
        "# x_axis = np.arange(-num_taps//2, num_taps//2 + 1) / r\n",
        "\n",
        "# plt.stem(x_axis[:len(filtered_signal_real)], filtered_signal_real)  # Plot for visualization\n",
        "# plt.title(f\"Time_delay = {10}\")\n",
        "# print(\"Filtered Signal:\")\n",
        "# print(len(filtered_signal))\n",
        "\n",
        "\n",
        "# Example input: Complex signal with real and imaginary parts\n",
        "input_signal = tf.constant([[1.0, -1.0]])  # Example input signal with 2 samples\n",
        "\n",
        "print(f\"Input signal length: {len(input_signal)}\")\n",
        "\n",
        "# Apply upsampling and RRC filtering\n",
        "filtered_signal = upsample_and_filter(input_signal, r, alpha, num_taps)\n",
        "\n",
        "# Print lengths\n",
        "upsampled_signal_length = len(upsample_iq(input_signal, r))\n",
        "expected_output_length = upsampled_signal_length + num_taps - 1\n",
        "\n",
        "print(f\"Expected output length: {expected_output_length}\")\n",
        "print(f\"Actual filtered signal length: {len(filtered_signal)}\")\n",
        "\n",
        "# Visualize the filtered signal\n",
        "filtered_signal_real = filtered_signal[:, 0].numpy()\n",
        "\n",
        "# Generate x-axis data with matching length\n",
        "x_axis = np.arange(len(filtered_signal_real))\n",
        "\n",
        "plt.stem(x_axis, filtered_signal_real)  # Plot for visualization\n",
        "plt.title(f\"Filtered Signal with Time_delay = {10}\")\n",
        "plt.show()\n",
        "\n",
        "\n"
      ]
    },
    {
      "cell_type": "markdown",
      "metadata": {
        "id": "tJ2s1mnEUu_p"
      },
      "source": [
        "# Stochastic Channel layer"
      ]
    },
    {
      "cell_type": "code",
      "execution_count": 39,
      "metadata": {
        "id": "OKTpQt4kDxP2"
      },
      "outputs": [],
      "source": [
        "# Custom Noise Layer\n",
        "class CustomNoise(tf.keras.layers.Layer):\n",
        "    def __init__(self, mean=0.0, stddev=10**(-1.0*Eb_No), **kwargs):\n",
        "        super(CustomNoise, self).__init__(**kwargs)\n",
        "        self.mean = mean\n",
        "        self.stddev = stddev\n",
        "\n",
        "    def call(self, inputs):\n",
        "        noise = tf.random.normal(shape=tf.shape(inputs), mean=self.mean, stddev=self.stddev)\n",
        "        return inputs + noise\n",
        "\n",
        "class StochasticChannel(tf.keras.layers.Layer):\n",
        "    def __init__(self, roll_off=0.35, num_taps=101, time_delay=0, rate=1, **kwargs):\n",
        "        super(StochasticChannel, self).__init__(**kwargs)\n",
        "        self.num_taps = num_taps\n",
        "        self.time_delay = time_delay\n",
        "        self.rate = rate\n",
        "        self.roll_off = roll_off\n",
        "        # self.Noise_layer  = CustomNoise(mean=0.0,stddev=channel_parameters['noise_std'])\n",
        "\n",
        "    def upsampling(self, input):\n",
        "        input = tf.reshape(input, [-1, 1])\n",
        "        padding = tf.constant([[0, 0], [0, self.rate - 1]])\n",
        "        upsampled = tf.pad(input, padding, \"CONSTANT\")\n",
        "        print(\"shape after upsamping:\", input.shape)\n",
        "        return tf.reshape(upsampled, [-1])\n",
        "\n",
        "    def upsample_iq(self, input):\n",
        "        # input = tf.reshape(input, [-1, 2])\n",
        "        real = input[:, 0]\n",
        "        imag = input[:, 1]\n",
        "        print(\"input dimension:\", input.shape)\n",
        "        real_up = self.upsampling(real)\n",
        "        imag_up = self.upsampling(imag)\n",
        "        return tf.stack([real_up, imag_up], axis=1)\n",
        "\n",
        "    def rrc_filter(self):\n",
        "        \"\"\"\n",
        "        Create a root-raised cosine (RRC) filter.\n",
        "\n",
        "        Returns:\n",
        "            RRC filter coefficients.\n",
        "        \"\"\"\n",
        "        t = np.linspace(-self.num_taps // 2, self.num_taps // 2, self.num_taps)\n",
        "        rrc = np.zeros_like(t)\n",
        "\n",
        "        for i in range(len(t)):\n",
        "            if t[i] == 0.0:\n",
        "                rrc[i] = (1.0 - self.roll_off + 4 * self.roll_off / np.pi)\n",
        "            elif np.abs(t[i]) == 1 / (4 * self.roll_off):\n",
        "                rrc[i] = (self.roll_off / (np.sqrt(2))) * \\\n",
        "                         ((1 + 2 / np.pi) * np.sin(np.pi / (4 * self.roll_off)) +\n",
        "                          (1 - 2 / np.pi) * np.cos(np.pi / (4 * self.roll_off)))\n",
        "            else:\n",
        "                rrc[i] = (np.sin(np.pi * (t[i]) * (1 - self.roll_off)) +\n",
        "                          4 * self.roll_off * (t[i]) * np.cos(np.pi * (t[i]) * (1 + self.roll_off))) / \\\n",
        "                         (np.pi * t[i] * (1 - (4 * self.roll_off * (t[i])) ** 2))\n",
        "\n",
        "        # Normalize filter coefficients to ensure unit energy\n",
        "        rrc = rrc / np.sqrt(np.sum(rrc ** 2))\n",
        "        rrc = tf.constant(rrc, dtype=tf.float32)\n",
        "        return rrc\n",
        "\n",
        "    def upsample_and_filter(self, input):\n",
        "        # Upsample the signal\n",
        "        input = tf.reshape(input, [-1, 2])\n",
        "        upsampled_signal = self.upsample_iq(input)\n",
        "\n",
        "        # Create the RRC filter\n",
        "        rrc = self.rrc_filter()\n",
        "\n",
        "        # Add a batch and channel dimension for conv1d\n",
        "        upsampled_signal = tf.expand_dims(upsampled_signal, axis=0)  # Shape: (1, length, 2)\n",
        "        rrc = tf.reshape(rrc, [-1, 1, 1])  # Shape: (filter_length, 1, 1)\n",
        "\n",
        "        padding_size = self.num_taps // 2\n",
        "        paddings = tf.constant([[0, 0], [padding_size, padding_size], [0, 0]])\n",
        "        padded_real = tf.pad(upsampled_signal[:, :, 0:1], paddings, \"CONSTANT\")\n",
        "        padded_imag = tf.pad(upsampled_signal[:, :, 1:2], paddings, \"CONSTANT\")\n",
        "        padded_signal = tf.concat([padded_real, padded_imag], axis=2)\n",
        "\n",
        "        # Apply the RRC filter using conv1d\n",
        "        real_filtered = tf.nn.conv1d(padded_signal[:, :, 0:1], rrc, stride=1, padding='VALID')\n",
        "        imag_filtered = tf.nn.conv1d(padded_signal[:, :, 1:2], rrc, stride=1, padding='VALID')\n",
        "\n",
        "        # Combine filtered real and imaginary parts\n",
        "        filtered_signal = tf.concat([real_filtered, imag_filtered], axis=2)\n",
        "        print(\"input shape; \",input.shape)\n",
        "        print(\"shape after filtering:\", filtered_signal.shape)\n",
        "        filtered_signal = tf.squeeze(filtered_signal, axis=0)  # Remove the batch dimension\n",
        "        print(\"shape after squeeze:\", filtered_signal[0])\n",
        "\n",
        "        return filtered_signal\n",
        "\n",
        "    def call(self, inputs):\n",
        "        # Apply upsampling and RRC filtering\n",
        "        shape_out = tf.shape(inputs)\n",
        "        # inputs = tf.reshape(inputs,[-1,2])\n",
        "        filtered_signal = self.upsample_and_filter(inputs)\n",
        "        # filtered_signal = tf.reshape(filtered_signal,shape_out)\n",
        "        #adding noise\n",
        "        # output = self.Noise_layer(filtered_signal)\n",
        "        return filtered_signal\n"
      ]
    },
    {
      "cell_type": "markdown",
      "metadata": {
        "id": "sXoG3XjY8P7h"
      },
      "source": [
        "# receive and decoding part"
      ]
    },
    {
      "cell_type": "code",
      "execution_count": null,
      "metadata": {
        "colab": {
          "base_uri": "https://localhost:8080/",
          "height": 211
        },
        "id": "WG0pvyxeqgJ5",
        "outputId": "64d2d9a3-c79d-44be-da14-27b3342f0f69"
      },
      "outputs": [
        {
          "ename": "NameError",
          "evalue": "name 'upsample_and_filter' is not defined",
          "output_type": "error",
          "traceback": [
            "\u001b[0;31m---------------------------------------------------------------------------\u001b[0m",
            "\u001b[0;31mNameError\u001b[0m                                 Traceback (most recent call last)",
            "\u001b[0;32m<ipython-input-19-3b096544b191>\u001b[0m in \u001b[0;36m<cell line: 33>\u001b[0;34m()\u001b[0m\n\u001b[1;32m     31\u001b[0m \u001b[0;34m\u001b[0m\u001b[0m\n\u001b[1;32m     32\u001b[0m \u001b[0;31m# Apply upsampling and RRC filtering\u001b[0m\u001b[0;34m\u001b[0m\u001b[0;34m\u001b[0m\u001b[0m\n\u001b[0;32m---> 33\u001b[0;31m \u001b[0mfiltered_signal\u001b[0m \u001b[0;34m=\u001b[0m \u001b[0mupsample_and_filter\u001b[0m\u001b[0;34m(\u001b[0m\u001b[0minput_signal\u001b[0m\u001b[0;34m,\u001b[0m \u001b[0mr\u001b[0m\u001b[0;34m,\u001b[0m \u001b[0malpha\u001b[0m\u001b[0;34m,\u001b[0m \u001b[0mnum_taps\u001b[0m\u001b[0;34m)\u001b[0m\u001b[0;34m\u001b[0m\u001b[0;34m\u001b[0m\u001b[0m\n\u001b[0m\u001b[1;32m     34\u001b[0m \u001b[0;34m\u001b[0m\u001b[0m\n\u001b[1;32m     35\u001b[0m \u001b[0;31m# Simulate the received signal and find the peak value\u001b[0m\u001b[0;34m\u001b[0m\u001b[0;34m\u001b[0m\u001b[0m\n",
            "\u001b[0;31mNameError\u001b[0m: name 'upsample_and_filter' is not defined"
          ]
        }
      ],
      "source": [
        "import numpy as np\n",
        "import tensorflow as tf\n",
        "from scipy.signal import lfilter\n",
        "\n",
        "# Function to simulate a simple AWGN channel (Additive White Gaussian Noise)\n",
        "def awgn_channel(signal, snr_db):\n",
        "    \"\"\"Add AWGN noise to the signal based on SNR in dB.\"\"\"\n",
        "    snr_linear = 10**(snr_db / 10)\n",
        "    signal_power = np.mean(np.abs(signal)**2)\n",
        "    noise_power = signal_power / snr_linear\n",
        "    noise = np.sqrt(noise_power / 2) * (np.random.randn(*signal.shape) + 1j * np.random.randn(*signal.shape))\n",
        "    return signal + noise\n",
        "\n",
        "# Function to receive the signal and detect the peak\n",
        "def receive_and_find_peak(transmitted_signal, snr_db=10):\n",
        "    \"\"\"Simulate reception of the signal and find the peak value.\"\"\"\n",
        "    # Simulate the received signal by adding noise\n",
        "    received_signal = awgn_channel(transmitted_signal, snr_db)\n",
        "\n",
        "    # Find the peak value in the received signal\n",
        "    peak_value = np.max(np.abs(received_signal))\n",
        "    peak_index = np.argmax(np.abs(received_signal))\n",
        "\n",
        "    return received_signal, peak_value, peak_index\n",
        "\n",
        "# Example usage:\n",
        "r = 4  # Upsampling factor\n",
        "alpha = 0.35  # Roll-off factor for RRC filter\n",
        "num_taps = 101  # Number of taps for RRC filter\n",
        "input_signal = np.random.randn(10, 2)  # Example random input signal (10 symbols, real and imag)\n",
        "\n",
        "# Apply upsampling and RRC filtering\n",
        "filtered_signal = upsample_and_filter(input_signal, r, alpha, num_taps)\n",
        "\n",
        "# Simulate the received signal and find the peak value\n",
        "received_signal, peak_value, peak_index = receive_and_find_peak(filtered_signal, snr_db=10)\n",
        "\n",
        "print(f\"Peak Value: {peak_value}\")\n",
        "print(f\"Peak Index: {peak_index}\")\n",
        "\n",
        "# Plot the received signal and highlight the peak\n",
        "import matplotlib.pyplot as plt\n",
        "\n",
        "plt.figure(figsize=(12, 6))\n",
        "plt.plot(np.abs(received_signal), label=\"Received Signal\")\n",
        "plt.scatter(peak_index, peak_value, color='red', label=\"Peak\", marker='o')\n",
        "plt.title(\"Received Signal with Peak Value Highlighted\")\n",
        "plt.xlabel(\"Sample Index\")\n",
        "plt.ylabel(\"Amplitude\")\n",
        "plt.legend()\n",
        "plt.show()\n"
      ]
    },
    {
      "cell_type": "code",
      "execution_count": null,
      "metadata": {
        "id": "LHLyzy75QemX"
      },
      "outputs": [],
      "source": []
    },
    {
      "cell_type": "markdown",
      "metadata": {
        "id": "j5UBT9hnLlJE"
      },
      "source": [
        "# latest"
      ]
    },
    {
      "cell_type": "markdown",
      "metadata": {
        "id": "8cfFtgnPRtdZ"
      },
      "source": [
        "## Real to complex conversion and pulse shaping"
      ]
    },
    {
      "cell_type": "code",
      "execution_count": null,
      "metadata": {
        "colab": {
          "base_uri": "https://localhost:8080/",
          "height": 211
        },
        "id": "puZ_hL-rjBPL",
        "outputId": "43fcfde2-6172-4917-8e33-a1d85a60ded7"
      },
      "outputs": [
        {
          "ename": "NameError",
          "evalue": "name 'rrc_filter' is not defined",
          "output_type": "error",
          "traceback": [
            "\u001b[0;31m---------------------------------------------------------------------------\u001b[0m",
            "\u001b[0;31mNameError\u001b[0m                                 Traceback (most recent call last)",
            "\u001b[0;32m<ipython-input-34-bd31ea977940>\u001b[0m in \u001b[0;36m<cell line: 115>\u001b[0;34m()\u001b[0m\n\u001b[1;32m    113\u001b[0m \u001b[0;34m\u001b[0m\u001b[0m\n\u001b[1;32m    114\u001b[0m \u001b[0;31m# Create the RRC filter\u001b[0m\u001b[0;34m\u001b[0m\u001b[0;34m\u001b[0m\u001b[0m\n\u001b[0;32m--> 115\u001b[0;31m \u001b[0mh_rrc\u001b[0m \u001b[0;34m=\u001b[0m \u001b[0mrrc_filter\u001b[0m\u001b[0;34m(\u001b[0m\u001b[0mbeta\u001b[0m\u001b[0;34m,\u001b[0m \u001b[0mspan\u001b[0m\u001b[0;34m,\u001b[0m \u001b[0msps\u001b[0m\u001b[0;34m)\u001b[0m\u001b[0;34m\u001b[0m\u001b[0;34m\u001b[0m\u001b[0m\n\u001b[0m\u001b[1;32m    116\u001b[0m \u001b[0;34m\u001b[0m\u001b[0m\n\u001b[1;32m    117\u001b[0m \u001b[0;31m# Perform pulse shaping\u001b[0m\u001b[0;34m\u001b[0m\u001b[0;34m\u001b[0m\u001b[0m\n",
            "\u001b[0;31mNameError\u001b[0m: name 'rrc_filter' is not defined"
          ]
        }
      ],
      "source": [
        "import numpy as np\n",
        "import matplotlib.pyplot as plt\n",
        "from scipy.signal import lfilter\n",
        "\n",
        "# function to create the complex values\n",
        "def real_to_complex_tensor(inp_tensor):\n",
        "  inp_tensor = tf.reshape(inp_tensor, [-1, 2])\n",
        "  real_part = inp_tensor[:, 0]\n",
        "  imag_part = inp_tensor[:, 1]\n",
        "  complex_tensor = tf.complex(real_part, imag_part)\n",
        "  return complex_tensor\n",
        "\n",
        "def complex_to_real_tensor(inp_tensor):\n",
        "   real_part , imag_part = tf.math.real(inp_tensor), tf.math.imag(inp_tensor)\n",
        "   real_part = tf.reshape(real_part,[-1,1])\n",
        "   imag_part = tf.reshape(imag_part,[-1,1])\n",
        "   return tf.reshape(tf.concat([real_part,imag_part],1),[-1])\n",
        "\n",
        "# RRC Filter Design\n",
        "class NRRC_filter(tf.keras.layers.Layer):\n",
        "\n",
        "  def __init__(self,beta,span,sps,input):\n",
        "    super(NRRC_filter, self).__init__(**kwargs)\n",
        "    self.beta = beta\n",
        "    self.span = span\n",
        "    self.sps = sps\n",
        "    self.input = input\n",
        "\n",
        "  def build(self,beta, span, sps):\n",
        "        \"\"\"\n",
        "        Create a Root Raised Cosine (RRC) filter (FIR) impulse response.\n",
        "\n",
        "        Parameters:\n",
        "        beta : Roll-off factor (0 <= beta <= 1)\n",
        "        span : Filter span in symbols\n",
        "        sps : Samples per symbol\n",
        "\n",
        "        Returns:\n",
        "        h_rrc : RRC filter coefficients (impulse response)\n",
        "        \"\"\"\n",
        "        t = np.linspace(-span / 2, span / 2, span * sps + 1)\n",
        "        h_rrc = np.zeros_like(t)\n",
        "\n",
        "        for i in range(len(t)):\n",
        "            if t[i] == 0.0:\n",
        "                h_rrc[i] = 1.0 - beta + (4 * beta / np.pi)\n",
        "            elif abs(t[i]) == 1 / (4 * beta):\n",
        "                h_rrc[i] = (beta / np.sqrt(2)) * (((1 + 2 / np.pi) * np.sin(np.pi / (4 * beta))) +\n",
        "                                                  ((1 - 2 / np.pi) * np.cos(np.pi / (4 * beta))))\n",
        "            else:\n",
        "                h_rrc[i] = (np.sin(np.pi * t[i] * (1 - beta)) +\n",
        "                            4 * beta * t[i] * np.cos(np.pi * t[i] * (1 + beta))) / \\\n",
        "                          (np.pi * t[i] * (1 - (4 * beta * t[i]) ** 2))\n",
        "\n",
        "        # Normalize filter energy to 1\n",
        "        h_rrc = h_rrc / np.sqrt(np.sum(h_rrc ** 2))\n",
        "        return h_rrc\n",
        "\n",
        "  def call(self, input):\n",
        "\n",
        "      \"\"\"\n",
        "      Apply pulse shaping to a bitstream using a given filter.\n",
        "\n",
        "      Parameters:\n",
        "      bitstream : Input bitstream (BPSK symbols)\n",
        "      h_rrc : RRC filter coefficients\n",
        "      sps : Samples per symbol\n",
        "\n",
        "      Returns:\n",
        "      shaped_signal : Pulse-shaped signal\n",
        "      \"\"\"\n",
        "      # Upsample the bitstream (insert zeros between symbols)\n",
        "      upsampled = np.zeros(len(input) * sps)\n",
        "      upsampled[::sps] = input\n",
        "\n",
        "      # Convolve with the RRC filter\n",
        "      shaped_signal = lfilter(h_rrc, 1.0, input)\n",
        "      return shaped_signal\n",
        "\n",
        "  def get_config(self):\n",
        "      config = super(NRRC_filter, self).get_config()\n",
        "      config.update({'beta': self.beta, 'span': self.span, 'sps': self.sps})\n",
        "      return config\n",
        "# Pulse Shaping\n",
        "def pulse_shaping(bitstream, h_rrc, sps):\n",
        "    \"\"\"\n",
        "    Apply pulse shaping to a bitstream using a given filter.\n",
        "\n",
        "    Parameters:\n",
        "    bitstream : Input bitstream (BPSK symbols)\n",
        "    h_rrc : RRC filter coefficients\n",
        "    sps : Samples per symbol\n",
        "\n",
        "    Returns:\n",
        "    shaped_signal : Pulse-shaped signal\n",
        "    \"\"\"\n",
        "    # Upsample the bitstream (insert zeros between symbols)\n",
        "    upsampled = np.zeros(len(bitstream) * sps)\n",
        "    upsampled[::sps] = bitstream\n",
        "\n",
        "    # Convolve with the RRC filter\n",
        "    shaped_signal = lfilter(h_rrc, 1.0, bitstream)\n",
        "    return shaped_signal\n",
        "\n",
        "# Parameters\n",
        "beta = 0.35  # Roll-off factor\n",
        "span = 31    # Filter span (in symbols)\n",
        "sps = 4      # Samples per symbol\n",
        "num_bits = 100  # Number of bits\n",
        "\n",
        "# Generate a random bitstream (BPSK symbols: -1, 1)\n",
        "bitstream = 2 * np.random.randint(0, 2, num_bits) - 1\n",
        "\n",
        "# Create the RRC filter\n",
        "h_rrc = rrc_filter(beta, span, sps)\n",
        "\n",
        "# Perform pulse shaping\n",
        "shaped_signal = pulse_shaping(bitstream, h_rrc, sps)\n",
        "\n",
        "# Normalize the shaped signal\n",
        "shaped_signal /= np.max(np.abs(shaped_signal))\n",
        "\n",
        "# Plot the original bitstream and the pulse-shaped signal\n",
        "plt.figure(figsize=(12, 6))\n",
        "\n",
        "plt.subplot(2, 1, 1)\n",
        "plt.stem(np.arange(len(bitstream)), bitstream, 'b', markerfmt='bo', basefmt=\" \", use_line_collection=True)\n",
        "plt.title('Original Bitstream')\n",
        "plt.xlabel('Bit Index')\n",
        "plt.ylabel('Amplitude')\n",
        "\n",
        "plt.subplot(2, 1, 2)\n",
        "plt.plot(shaped_signal, 'r')\n",
        "plt.title('Pulse-Shaped Signal (Normalized RRC)')\n",
        "plt.xlabel('Sample Index')\n",
        "plt.ylabel('Amplitude')\n",
        "\n",
        "plt.tight_layout()\n",
        "plt.show()\n"
      ]
    },
    {
      "cell_type": "markdown",
      "metadata": {
        "id": "XVvu_VFTR_J6"
      },
      "source": [
        "## implementation of AE with noise channel working."
      ]
    },
    {
      "cell_type": "code",
      "execution_count": 42,
      "metadata": {
        "colab": {
          "base_uri": "https://localhost:8080/",
          "height": 616
        },
        "collapsed": true,
        "id": "uzN0ljm-PzO_",
        "outputId": "c245d1c3-95c7-41dd-8c23-ae5a93e99460"
      },
      "outputs": [
        {
          "output_type": "stream",
          "name": "stdout",
          "text": [
            "Epoch 1/10\n",
            " Normalize each input power to 1 \n",
            "input dimension: (1280, 2)\n",
            "shape after upsamping: (1280, 1)\n",
            "shape after upsamping: (1280, 1)\n",
            "input shape;  (1280, 2)\n",
            "shape after filtering: (1, 1280, 2)\n",
            "shape after squeeze: Tensor(\"strided_slice_6:0\", shape=(2,), dtype=float32)\n",
            " Normalize each input power to 1 \n",
            "input dimension: (1280, 2)\n",
            "shape after upsamping: (1280, 1)\n",
            "shape after upsamping: (1280, 1)\n",
            "input shape;  (1280, 2)\n",
            "shape after filtering: (1, 1280, 2)\n",
            "shape after squeeze: Tensor(\"sequential_13_1/stc_1/strided_slice_6:0\", shape=(2,), dtype=float32)\n"
          ]
        },
        {
          "output_type": "error",
          "ename": "ValueError",
          "evalue": "Arguments `target` and `output` must have the same shape. Received: target.shape=(320, 16), output.shape=(1280, 16)",
          "traceback": [
            "\u001b[0;31m---------------------------------------------------------------------------\u001b[0m",
            "\u001b[0;31mValueError\u001b[0m                                Traceback (most recent call last)",
            "\u001b[0;32m<ipython-input-42-60e1c73cb401>\u001b[0m in \u001b[0;36m<cell line: 119>\u001b[0;34m()\u001b[0m\n\u001b[1;32m    117\u001b[0m \u001b[0;31m# Instantiate the AE class and train the model\u001b[0m\u001b[0;34m\u001b[0m\u001b[0;34m\u001b[0m\u001b[0m\n\u001b[1;32m    118\u001b[0m \u001b[0mae\u001b[0m \u001b[0;34m=\u001b[0m \u001b[0mAE\u001b[0m\u001b[0;34m(\u001b[0m\u001b[0mtrain_data\u001b[0m\u001b[0;34m=\u001b[0m\u001b[0mtrain_dataset\u001b[0m\u001b[0;34m,\u001b[0m \u001b[0mtest_data\u001b[0m\u001b[0;34m=\u001b[0m\u001b[0mtest_dataset\u001b[0m\u001b[0;34m,\u001b[0m \u001b[0minput_dim\u001b[0m\u001b[0;34m=\u001b[0m\u001b[0mK\u001b[0m\u001b[0;34m,\u001b[0m \u001b[0menc_dim\u001b[0m\u001b[0;34m=\u001b[0m\u001b[0mN\u001b[0m\u001b[0;34m,\u001b[0m \u001b[0mact_fun\u001b[0m\u001b[0;34m=\u001b[0m\u001b[0;34m'tanh'\u001b[0m\u001b[0;34m)\u001b[0m\u001b[0;34m\u001b[0m\u001b[0;34m\u001b[0m\u001b[0m\n\u001b[0;32m--> 119\u001b[0;31m \u001b[0mautoencoder_model\u001b[0m \u001b[0;34m=\u001b[0m \u001b[0mae\u001b[0m\u001b[0;34m.\u001b[0m\u001b[0mtrain\u001b[0m\u001b[0;34m(\u001b[0m\u001b[0mepochs\u001b[0m\u001b[0;34m=\u001b[0m\u001b[0;36m10\u001b[0m\u001b[0;34m,\u001b[0m \u001b[0mbatch_size\u001b[0m\u001b[0;34m=\u001b[0m\u001b[0mbatch_size\u001b[0m\u001b[0;34m)\u001b[0m\u001b[0;34m\u001b[0m\u001b[0;34m\u001b[0m\u001b[0m\n\u001b[0m\u001b[1;32m    120\u001b[0m \u001b[0;34m\u001b[0m\u001b[0m\n\u001b[1;32m    121\u001b[0m \u001b[0;31m# Evaluate the model on the test data\u001b[0m\u001b[0;34m\u001b[0m\u001b[0;34m\u001b[0m\u001b[0m\n",
            "\u001b[0;32m<ipython-input-42-60e1c73cb401>\u001b[0m in \u001b[0;36mtrain\u001b[0;34m(self, epochs, batch_size)\u001b[0m\n\u001b[1;32m    110\u001b[0m     \u001b[0;32mdef\u001b[0m \u001b[0mtrain\u001b[0m\u001b[0;34m(\u001b[0m\u001b[0mself\u001b[0m\u001b[0;34m,\u001b[0m \u001b[0mepochs\u001b[0m\u001b[0;34m=\u001b[0m\u001b[0;36m10\u001b[0m\u001b[0;34m,\u001b[0m \u001b[0mbatch_size\u001b[0m\u001b[0;34m=\u001b[0m\u001b[0;36m32\u001b[0m\u001b[0;34m)\u001b[0m\u001b[0;34m:\u001b[0m\u001b[0;34m\u001b[0m\u001b[0;34m\u001b[0m\u001b[0m\n\u001b[1;32m    111\u001b[0m         \u001b[0mautoencoder\u001b[0m \u001b[0;34m=\u001b[0m \u001b[0mself\u001b[0m\u001b[0;34m.\u001b[0m\u001b[0mAE_implement\u001b[0m\u001b[0;34m(\u001b[0m\u001b[0;34m)\u001b[0m\u001b[0;34m\u001b[0m\u001b[0;34m\u001b[0m\u001b[0m\n\u001b[0;32m--> 112\u001b[0;31m         autoencoder.fit(self.train_data, self.train_data,\n\u001b[0m\u001b[1;32m    113\u001b[0m                         \u001b[0mepochs\u001b[0m\u001b[0;34m=\u001b[0m\u001b[0mepochs\u001b[0m\u001b[0;34m,\u001b[0m \u001b[0mbatch_size\u001b[0m\u001b[0;34m=\u001b[0m\u001b[0mbatch_size\u001b[0m\u001b[0;34m,\u001b[0m\u001b[0;34m\u001b[0m\u001b[0;34m\u001b[0m\u001b[0m\n\u001b[1;32m    114\u001b[0m                         validation_data=(self.test_data, self.test_data))\n",
            "\u001b[0;32m/usr/local/lib/python3.10/dist-packages/keras/src/utils/traceback_utils.py\u001b[0m in \u001b[0;36merror_handler\u001b[0;34m(*args, **kwargs)\u001b[0m\n\u001b[1;32m    120\u001b[0m             \u001b[0;31m# To get the full stack trace, call:\u001b[0m\u001b[0;34m\u001b[0m\u001b[0;34m\u001b[0m\u001b[0m\n\u001b[1;32m    121\u001b[0m             \u001b[0;31m# `keras.config.disable_traceback_filtering()`\u001b[0m\u001b[0;34m\u001b[0m\u001b[0;34m\u001b[0m\u001b[0m\n\u001b[0;32m--> 122\u001b[0;31m             \u001b[0;32mraise\u001b[0m \u001b[0me\u001b[0m\u001b[0;34m.\u001b[0m\u001b[0mwith_traceback\u001b[0m\u001b[0;34m(\u001b[0m\u001b[0mfiltered_tb\u001b[0m\u001b[0;34m)\u001b[0m \u001b[0;32mfrom\u001b[0m \u001b[0;32mNone\u001b[0m\u001b[0;34m\u001b[0m\u001b[0;34m\u001b[0m\u001b[0m\n\u001b[0m\u001b[1;32m    123\u001b[0m         \u001b[0;32mfinally\u001b[0m\u001b[0;34m:\u001b[0m\u001b[0;34m\u001b[0m\u001b[0;34m\u001b[0m\u001b[0m\n\u001b[1;32m    124\u001b[0m             \u001b[0;32mdel\u001b[0m \u001b[0mfiltered_tb\u001b[0m\u001b[0;34m\u001b[0m\u001b[0;34m\u001b[0m\u001b[0m\n",
            "\u001b[0;32m/usr/local/lib/python3.10/dist-packages/keras/src/backend/tensorflow/nn.py\u001b[0m in \u001b[0;36mcategorical_crossentropy\u001b[0;34m(target, output, from_logits, axis)\u001b[0m\n\u001b[1;32m    559\u001b[0m     \u001b[0;32mfor\u001b[0m \u001b[0me1\u001b[0m\u001b[0;34m,\u001b[0m \u001b[0me2\u001b[0m \u001b[0;32min\u001b[0m \u001b[0mzip\u001b[0m\u001b[0;34m(\u001b[0m\u001b[0mtarget\u001b[0m\u001b[0;34m.\u001b[0m\u001b[0mshape\u001b[0m\u001b[0;34m,\u001b[0m \u001b[0moutput\u001b[0m\u001b[0;34m.\u001b[0m\u001b[0mshape\u001b[0m\u001b[0;34m)\u001b[0m\u001b[0;34m:\u001b[0m\u001b[0;34m\u001b[0m\u001b[0;34m\u001b[0m\u001b[0m\n\u001b[1;32m    560\u001b[0m         \u001b[0;32mif\u001b[0m \u001b[0me1\u001b[0m \u001b[0;32mis\u001b[0m \u001b[0;32mnot\u001b[0m \u001b[0;32mNone\u001b[0m \u001b[0;32mand\u001b[0m \u001b[0me2\u001b[0m \u001b[0;32mis\u001b[0m \u001b[0;32mnot\u001b[0m \u001b[0;32mNone\u001b[0m \u001b[0;32mand\u001b[0m \u001b[0me1\u001b[0m \u001b[0;34m!=\u001b[0m \u001b[0me2\u001b[0m\u001b[0;34m:\u001b[0m\u001b[0;34m\u001b[0m\u001b[0;34m\u001b[0m\u001b[0m\n\u001b[0;32m--> 561\u001b[0;31m             raise ValueError(\n\u001b[0m\u001b[1;32m    562\u001b[0m                 \u001b[0;34m\"Arguments `target` and `output` must have the same shape. \"\u001b[0m\u001b[0;34m\u001b[0m\u001b[0;34m\u001b[0m\u001b[0m\n\u001b[1;32m    563\u001b[0m                 \u001b[0;34m\"Received: \"\u001b[0m\u001b[0;34m\u001b[0m\u001b[0;34m\u001b[0m\u001b[0m\n",
            "\u001b[0;31mValueError\u001b[0m: Arguments `target` and `output` must have the same shape. Received: target.shape=(320, 16), output.shape=(1280, 16)"
          ]
        }
      ],
      "source": [
        "import tensorflow as tf\n",
        "from tensorflow.keras.models import Sequential\n",
        "from tensorflow.keras.layers import Dense\n",
        "import numpy as np\n",
        "import math\n",
        "import matplotlib.pyplot as plt\n",
        "\n",
        "# Dataset Parameters\n",
        "N = 4  # Number of channel uses\n",
        "M = 16  # Number of total messages that can be transmitted\n",
        "K = int(math.ceil(np.log2(M)))  # Block size\n",
        "Eb_No = 10\n",
        "batch_size = 320\n",
        "\n",
        "# Create Dataset in one-hot vector\n",
        "alphabet_size = pow(2, K)\n",
        "alphabet = np.eye(alphabet_size, dtype='float32')\n",
        "\n",
        "train_dataset = np.tile(alphabet, (batch_size, 1))\n",
        "test_dataset = np.tile(alphabet, (batch_size * 10, 1))\n",
        "\n",
        "# Normalization Layer\n",
        "class Normalization(tf.keras.layers.Layer):\n",
        "    def __init__(self, **kwargs):\n",
        "        super(Normalization, self).__init__(**kwargs)\n",
        "\n",
        "    def call(self, input):\n",
        "        shape = tf.shape(input)\n",
        "        out = tf.nn.l2_normalize(tf.reshape(input, (-1, 2)), axis=-1, epsilon=1e-5)\n",
        "        # out = tf.nn.l2_normalize(tf.reshape(input, (-1, 2*N)), axis=-1, epsilon=1e-5)                                # to normalize the power of symbol\n",
        "        # out = tf.nn.l2_normalize(tf.reshape(input, (-1, shape[-1])), axis=-1, epsilon=1e-5)  # to normalize the power of all the signal\n",
        "        out = tf.reshape(out, (-1,2*N))\n",
        "        print(\" Normalize each input power to 1 \")\n",
        "        return out\n",
        "\n",
        "    def get_config(self):\n",
        "        return super(Normalization, self).get_config()\n",
        "\n",
        "# Custom Noise Layer\n",
        "class CustomNoise(tf.keras.layers.Layer):\n",
        "    def __init__(self, mean=0.0, stddev=10**(-1.0*Eb_No), **kwargs):\n",
        "        super(CustomNoise, self).__init__(**kwargs)\n",
        "        self.mean = mean\n",
        "        self.stddev = stddev\n",
        "\n",
        "    def call(self, inputs):\n",
        "        noise = tf.random.normal(shape=tf.shape(inputs), mean=self.mean, stddev=self.stddev)\n",
        "        return inputs + noise\n",
        "\n",
        "import tensorflow as tf\n",
        "from tensorflow.keras.layers import Layer\n",
        "\n",
        "class RealToComplexPair(Layer):\n",
        "    def __init__(self, **kwargs):\n",
        "        super(RealToComplexPair, self).__init__(**kwargs)\n",
        "\n",
        "    def call(self, inputs):\n",
        "        # Split the input tensor into two equal parts along the last axis\n",
        "        real_part, imag_part = tf.split(inputs, num_or_size_splits=2, axis=-1)\n",
        "\n",
        "        # Combine the real and imaginary parts into a single tensor\n",
        "        # Note: We maintain it as a real-valued tensor with double the dimensions\n",
        "        complex_pair_tensor = tf.concat([real_part, imag_part], axis=-1)\n",
        "        return complex_pair_tensor\n",
        "\n",
        "    def compute_output_shape(self, input_shape):\n",
        "        # Output shape will have twice the last dimension (to accommodate real and imaginary parts)\n",
        "        return (input_shape[0], input_shape[-1] * 2)\n",
        "\n",
        "    def get_config(self):\n",
        "        config = super(RealToComplexPair, self).get_config()\n",
        "        return config\n",
        "\n",
        "\n",
        "\n",
        "class AE:\n",
        "    def __init__(self, train_data=train_dataset, test_data=test_dataset, input_dim=K, enc_dim=N, act_fun='relu'):\n",
        "        self.train_data = train_data\n",
        "        self.test_data = test_data\n",
        "        self.input_dim = input_dim\n",
        "        self.enc_dim = enc_dim\n",
        "        self.act_fun = act_fun\n",
        "\n",
        "    def AE_implement(self):\n",
        "        autoencoder = Sequential([\n",
        "            Dense(2**(self.input_dim), activation=self.act_fun, name=\"Input\"),\n",
        "            Dense(2**(self.input_dim), activation=self.act_fun, name=\"encoder\"),\n",
        "            Dense(2**(self.input_dim), activation=self.act_fun, name=\"middle1\"),\n",
        "            Dense(self.enc_dim * 2, activation=self.act_fun, name='middle2'),\n",
        "\n",
        "            # Convert to complex tensor\n",
        "            # RealToComplexPair(),\n",
        "\n",
        "            # Normalization Layer\n",
        "            Normalization(name = 'normalization'),\n",
        "\n",
        "            # Channel Layer\n",
        "            StochasticChannel(name = 'stc'),\n",
        "            CustomNoise(name = 'noise'),\n",
        "\n",
        "            # Decoder layers\n",
        "            Dense(self.enc_dim * 4, activation=self.act_fun, name=\"decoder1\"),\n",
        "            Dense(2**(self.input_dim), activation=self.act_fun, name='decoder2'),\n",
        "            Dense(2**(self.input_dim), activation='softmax', name='Output')\n",
        "        ])\n",
        "\n",
        "        autoencoder.compile(optimizer='adam', loss='categorical_crossentropy', metrics=['accuracy'])\n",
        "        return autoencoder\n",
        "\n",
        "    def train(self, epochs=10, batch_size=32):\n",
        "        autoencoder = self.AE_implement()\n",
        "        autoencoder.fit(self.train_data, self.train_data,\n",
        "                        epochs=epochs, batch_size=batch_size,\n",
        "                        validation_data=(self.test_data, self.test_data))\n",
        "        return autoencoder\n",
        "\n",
        "# Instantiate the AE class and train the model\n",
        "ae = AE(train_data=train_dataset, test_data=test_dataset, input_dim=K, enc_dim=N, act_fun='tanh')\n",
        "autoencoder_model = ae.train(epochs=10, batch_size=batch_size)\n",
        "\n",
        "# Evaluate the model on the test data\n",
        "loss, accuracy = autoencoder_model.evaluate(test_dataset, test_dataset)\n",
        "print(f\"Test Loss: {loss:.4f}, Test Accuracy: {accuracy:.4f}\")\n"
      ]
    },
    {
      "cell_type": "code",
      "execution_count": null,
      "metadata": {
        "colab": {
          "base_uri": "https://localhost:8080/",
          "height": 465
        },
        "collapsed": true,
        "id": "Bi-wtO_zO7bW",
        "outputId": "c2d2eea3-e7f9-4a4f-b2d2-6608254120ff"
      },
      "outputs": [
        {
          "data": {
            "text/html": [
              "<pre style=\"white-space:pre;overflow-x:auto;line-height:normal;font-family:Menlo,'DejaVu Sans Mono',consolas,'Courier New',monospace\"><span style=\"font-weight: bold\">Model: \"sequential_5\"</span>\n",
              "</pre>\n"
            ],
            "text/plain": [
              "\u001b[1mModel: \"sequential_5\"\u001b[0m\n"
            ]
          },
          "metadata": {},
          "output_type": "display_data"
        },
        {
          "data": {
            "text/html": [
              "<pre style=\"white-space:pre;overflow-x:auto;line-height:normal;font-family:Menlo,'DejaVu Sans Mono',consolas,'Courier New',monospace\">┏━━━━━━━━━━━━━━━━━━━━━━━━━━━━━━━━━━━━━━┳━━━━━━━━━━━━━━━━━━━━━━━━━━━━━┳━━━━━━━━━━━━━━━━━┓\n",
              "┃<span style=\"font-weight: bold\"> Layer (type)                         </span>┃<span style=\"font-weight: bold\"> Output Shape                </span>┃<span style=\"font-weight: bold\">         Param # </span>┃\n",
              "┡━━━━━━━━━━━━━━━━━━━━━━━━━━━━━━━━━━━━━━╇━━━━━━━━━━━━━━━━━━━━━━━━━━━━━╇━━━━━━━━━━━━━━━━━┩\n",
              "│ Input (<span style=\"color: #0087ff; text-decoration-color: #0087ff\">Dense</span>)                        │ (<span style=\"color: #00af00; text-decoration-color: #00af00\">320</span>, <span style=\"color: #00af00; text-decoration-color: #00af00\">16</span>)                   │             <span style=\"color: #00af00; text-decoration-color: #00af00\">272</span> │\n",
              "├──────────────────────────────────────┼─────────────────────────────┼─────────────────┤\n",
              "│ encoder (<span style=\"color: #0087ff; text-decoration-color: #0087ff\">Dense</span>)                      │ (<span style=\"color: #00af00; text-decoration-color: #00af00\">320</span>, <span style=\"color: #00af00; text-decoration-color: #00af00\">16</span>)                   │             <span style=\"color: #00af00; text-decoration-color: #00af00\">272</span> │\n",
              "├──────────────────────────────────────┼─────────────────────────────┼─────────────────┤\n",
              "│ middle1 (<span style=\"color: #0087ff; text-decoration-color: #0087ff\">Dense</span>)                      │ (<span style=\"color: #00af00; text-decoration-color: #00af00\">320</span>, <span style=\"color: #00af00; text-decoration-color: #00af00\">16</span>)                   │             <span style=\"color: #00af00; text-decoration-color: #00af00\">272</span> │\n",
              "├──────────────────────────────────────┼─────────────────────────────┼─────────────────┤\n",
              "│ middle2 (<span style=\"color: #0087ff; text-decoration-color: #0087ff\">Dense</span>)                      │ (<span style=\"color: #00af00; text-decoration-color: #00af00\">320</span>, <span style=\"color: #00af00; text-decoration-color: #00af00\">8</span>)                    │             <span style=\"color: #00af00; text-decoration-color: #00af00\">136</span> │\n",
              "├──────────────────────────────────────┼─────────────────────────────┼─────────────────┤\n",
              "│ normalization (<span style=\"color: #0087ff; text-decoration-color: #0087ff\">Normalization</span>)        │ (<span style=\"color: #00af00; text-decoration-color: #00af00\">320</span>, <span style=\"color: #00af00; text-decoration-color: #00af00\">8</span>)                    │               <span style=\"color: #00af00; text-decoration-color: #00af00\">0</span> │\n",
              "├──────────────────────────────────────┼─────────────────────────────┼─────────────────┤\n",
              "│ stc (<span style=\"color: #0087ff; text-decoration-color: #0087ff\">StochasticChannel</span>)              │ (<span style=\"color: #00af00; text-decoration-color: #00af00\">320</span>, <span style=\"color: #00af00; text-decoration-color: #00af00\">2</span>)                    │               <span style=\"color: #00af00; text-decoration-color: #00af00\">0</span> │\n",
              "├──────────────────────────────────────┼─────────────────────────────┼─────────────────┤\n",
              "│ noise (<span style=\"color: #0087ff; text-decoration-color: #0087ff\">CustomNoise</span>)                  │ (<span style=\"color: #00af00; text-decoration-color: #00af00\">320</span>, <span style=\"color: #00af00; text-decoration-color: #00af00\">2</span>)                    │               <span style=\"color: #00af00; text-decoration-color: #00af00\">0</span> │\n",
              "├──────────────────────────────────────┼─────────────────────────────┼─────────────────┤\n",
              "│ decoder1 (<span style=\"color: #0087ff; text-decoration-color: #0087ff\">Dense</span>)                     │ (<span style=\"color: #00af00; text-decoration-color: #00af00\">320</span>, <span style=\"color: #00af00; text-decoration-color: #00af00\">16</span>)                   │              <span style=\"color: #00af00; text-decoration-color: #00af00\">48</span> │\n",
              "├──────────────────────────────────────┼─────────────────────────────┼─────────────────┤\n",
              "│ decoder2 (<span style=\"color: #0087ff; text-decoration-color: #0087ff\">Dense</span>)                     │ (<span style=\"color: #00af00; text-decoration-color: #00af00\">320</span>, <span style=\"color: #00af00; text-decoration-color: #00af00\">16</span>)                   │             <span style=\"color: #00af00; text-decoration-color: #00af00\">272</span> │\n",
              "├──────────────────────────────────────┼─────────────────────────────┼─────────────────┤\n",
              "│ Output (<span style=\"color: #0087ff; text-decoration-color: #0087ff\">Dense</span>)                       │ (<span style=\"color: #00af00; text-decoration-color: #00af00\">320</span>, <span style=\"color: #00af00; text-decoration-color: #00af00\">16</span>)                   │             <span style=\"color: #00af00; text-decoration-color: #00af00\">272</span> │\n",
              "└──────────────────────────────────────┴─────────────────────────────┴─────────────────┘\n",
              "</pre>\n"
            ],
            "text/plain": [
              "┏━━━━━━━━━━━━━━━━━━━━━━━━━━━━━━━━━━━━━━┳━━━━━━━━━━━━━━━━━━━━━━━━━━━━━┳━━━━━━━━━━━━━━━━━┓\n",
              "┃\u001b[1m \u001b[0m\u001b[1mLayer (type)                        \u001b[0m\u001b[1m \u001b[0m┃\u001b[1m \u001b[0m\u001b[1mOutput Shape               \u001b[0m\u001b[1m \u001b[0m┃\u001b[1m \u001b[0m\u001b[1m        Param #\u001b[0m\u001b[1m \u001b[0m┃\n",
              "┡━━━━━━━━━━━━━━━━━━━━━━━━━━━━━━━━━━━━━━╇━━━━━━━━━━━━━━━━━━━━━━━━━━━━━╇━━━━━━━━━━━━━━━━━┩\n",
              "│ Input (\u001b[38;5;33mDense\u001b[0m)                        │ (\u001b[38;5;34m320\u001b[0m, \u001b[38;5;34m16\u001b[0m)                   │             \u001b[38;5;34m272\u001b[0m │\n",
              "├──────────────────────────────────────┼─────────────────────────────┼─────────────────┤\n",
              "│ encoder (\u001b[38;5;33mDense\u001b[0m)                      │ (\u001b[38;5;34m320\u001b[0m, \u001b[38;5;34m16\u001b[0m)                   │             \u001b[38;5;34m272\u001b[0m │\n",
              "├──────────────────────────────────────┼─────────────────────────────┼─────────────────┤\n",
              "│ middle1 (\u001b[38;5;33mDense\u001b[0m)                      │ (\u001b[38;5;34m320\u001b[0m, \u001b[38;5;34m16\u001b[0m)                   │             \u001b[38;5;34m272\u001b[0m │\n",
              "├──────────────────────────────────────┼─────────────────────────────┼─────────────────┤\n",
              "│ middle2 (\u001b[38;5;33mDense\u001b[0m)                      │ (\u001b[38;5;34m320\u001b[0m, \u001b[38;5;34m8\u001b[0m)                    │             \u001b[38;5;34m136\u001b[0m │\n",
              "├──────────────────────────────────────┼─────────────────────────────┼─────────────────┤\n",
              "│ normalization (\u001b[38;5;33mNormalization\u001b[0m)        │ (\u001b[38;5;34m320\u001b[0m, \u001b[38;5;34m8\u001b[0m)                    │               \u001b[38;5;34m0\u001b[0m │\n",
              "├──────────────────────────────────────┼─────────────────────────────┼─────────────────┤\n",
              "│ stc (\u001b[38;5;33mStochasticChannel\u001b[0m)              │ (\u001b[38;5;34m320\u001b[0m, \u001b[38;5;34m2\u001b[0m)                    │               \u001b[38;5;34m0\u001b[0m │\n",
              "├──────────────────────────────────────┼─────────────────────────────┼─────────────────┤\n",
              "│ noise (\u001b[38;5;33mCustomNoise\u001b[0m)                  │ (\u001b[38;5;34m320\u001b[0m, \u001b[38;5;34m2\u001b[0m)                    │               \u001b[38;5;34m0\u001b[0m │\n",
              "├──────────────────────────────────────┼─────────────────────────────┼─────────────────┤\n",
              "│ decoder1 (\u001b[38;5;33mDense\u001b[0m)                     │ (\u001b[38;5;34m320\u001b[0m, \u001b[38;5;34m16\u001b[0m)                   │              \u001b[38;5;34m48\u001b[0m │\n",
              "├──────────────────────────────────────┼─────────────────────────────┼─────────────────┤\n",
              "│ decoder2 (\u001b[38;5;33mDense\u001b[0m)                     │ (\u001b[38;5;34m320\u001b[0m, \u001b[38;5;34m16\u001b[0m)                   │             \u001b[38;5;34m272\u001b[0m │\n",
              "├──────────────────────────────────────┼─────────────────────────────┼─────────────────┤\n",
              "│ Output (\u001b[38;5;33mDense\u001b[0m)                       │ (\u001b[38;5;34m320\u001b[0m, \u001b[38;5;34m16\u001b[0m)                   │             \u001b[38;5;34m272\u001b[0m │\n",
              "└──────────────────────────────────────┴─────────────────────────────┴─────────────────┘\n"
            ]
          },
          "metadata": {},
          "output_type": "display_data"
        },
        {
          "data": {
            "text/html": [
              "<pre style=\"white-space:pre;overflow-x:auto;line-height:normal;font-family:Menlo,'DejaVu Sans Mono',consolas,'Courier New',monospace\"><span style=\"font-weight: bold\"> Total params: </span><span style=\"color: #00af00; text-decoration-color: #00af00\">4,634</span> (18.11 KB)\n",
              "</pre>\n"
            ],
            "text/plain": [
              "\u001b[1m Total params: \u001b[0m\u001b[38;5;34m4,634\u001b[0m (18.11 KB)\n"
            ]
          },
          "metadata": {},
          "output_type": "display_data"
        },
        {
          "data": {
            "text/html": [
              "<pre style=\"white-space:pre;overflow-x:auto;line-height:normal;font-family:Menlo,'DejaVu Sans Mono',consolas,'Courier New',monospace\"><span style=\"font-weight: bold\"> Trainable params: </span><span style=\"color: #00af00; text-decoration-color: #00af00\">1,544</span> (6.03 KB)\n",
              "</pre>\n"
            ],
            "text/plain": [
              "\u001b[1m Trainable params: \u001b[0m\u001b[38;5;34m1,544\u001b[0m (6.03 KB)\n"
            ]
          },
          "metadata": {},
          "output_type": "display_data"
        },
        {
          "data": {
            "text/html": [
              "<pre style=\"white-space:pre;overflow-x:auto;line-height:normal;font-family:Menlo,'DejaVu Sans Mono',consolas,'Courier New',monospace\"><span style=\"font-weight: bold\"> Non-trainable params: </span><span style=\"color: #00af00; text-decoration-color: #00af00\">0</span> (0.00 B)\n",
              "</pre>\n"
            ],
            "text/plain": [
              "\u001b[1m Non-trainable params: \u001b[0m\u001b[38;5;34m0\u001b[0m (0.00 B)\n"
            ]
          },
          "metadata": {},
          "output_type": "display_data"
        },
        {
          "data": {
            "text/html": [
              "<pre style=\"white-space:pre;overflow-x:auto;line-height:normal;font-family:Menlo,'DejaVu Sans Mono',consolas,'Courier New',monospace\"><span style=\"font-weight: bold\"> Optimizer params: </span><span style=\"color: #00af00; text-decoration-color: #00af00\">3,090</span> (12.07 KB)\n",
              "</pre>\n"
            ],
            "text/plain": [
              "\u001b[1m Optimizer params: \u001b[0m\u001b[38;5;34m3,090\u001b[0m (12.07 KB)\n"
            ]
          },
          "metadata": {},
          "output_type": "display_data"
        }
      ],
      "source": [
        "autoencoder_model.summary()"
      ]
    },
    {
      "cell_type": "markdown",
      "metadata": {
        "id": "3uB81YouSNu0"
      },
      "source": [
        "## plot the constellation before channel transmission Not complete"
      ]
    },
    {
      "cell_type": "code",
      "execution_count": 41,
      "metadata": {
        "colab": {
          "base_uri": "https://localhost:8080/",
          "height": 1000
        },
        "id": "65qs5o9i8ou-",
        "outputId": "f14006fb-b02b-425d-9954-fc19a99953fe"
      },
      "outputs": [
        {
          "output_type": "stream",
          "name": "stdout",
          "text": [
            " Normalize each input power to 1 \n",
            " Normalize each input power to 1 \n",
            "input dimension: (5120, 8)\n",
            "input tf.Tensor(\n",
            "[ 0.2881979   0.65750474  0.71775013 ... -0.04360843  0.43196693\n",
            " -0.5993712 ], shape=(5120,), dtype=float32)\n",
            "shape after upsamping: (5120, 1)\n",
            "shape after upsamping: (5120, 1)\n",
            "input shape;  (5120, 8)\n",
            "shape after filtering: (1, 5120, 2)\n",
            "shape after squeeze: tf.Tensor([-1.0031474 -0.874614 ], shape=(2,), dtype=float32)\n",
            "tf.Tensor(\n",
            "[[-0.75389373 -0.6569962   0.2881979  ...  0.7263674   0.421399\n",
            "   0.9068753 ]\n",
            " [-0.88347983 -0.46846905  0.65750474 ...  0.35550526 -0.9043292\n",
            "   0.42683554]\n",
            " [-0.9169583   0.39898312  0.71775013 ... -0.27050632 -0.6017463\n",
            "  -0.7986872 ]\n",
            " ...\n",
            " [ 0.98049223  0.19655804 -0.04360843 ...  0.5194474  -0.05138493\n",
            "  -0.9986789 ]\n",
            " [-0.98740244  0.15822873  0.43196693 ...  0.71245575 -0.40876088\n",
            "   0.9126415 ]\n",
            " [-0.07357068 -0.99728996 -0.5993712  ... -0.999365   -0.9998131\n",
            "  -0.01933511]], shape=(5120, 8), dtype=float32)\n",
            "tf.Tensor(\n",
            "[[-1.0031474  -0.874614  ]\n",
            " [-1.2115355   0.16964306]\n",
            " [-0.12573278 -0.19217198]\n",
            " ...\n",
            " [ 0.14065094  0.25866246]\n",
            " [-0.8968521  -0.5862241 ]\n",
            " [ 0.10838832 -0.6973946 ]], shape=(5120, 2), dtype=float32)\n"
          ]
        },
        {
          "output_type": "error",
          "ename": "InvalidArgumentError",
          "evalue": "{{function_node __wrapped__StridedSlice_device_/job:localhost/replica:0/task:0/device:CPU:0}} slice index 2 of dimension 1 out of bounds. [Op:StridedSlice] name: strided_slice/",
          "traceback": [
            "\u001b[0;31m---------------------------------------------------------------------------\u001b[0m",
            "\u001b[0;31mInvalidArgumentError\u001b[0m                      Traceback (most recent call last)",
            "\u001b[0;32m<ipython-input-41-1f794b3e0921>\u001b[0m in \u001b[0;36m<cell line: 35>\u001b[0;34m()\u001b[0m\n\u001b[1;32m     35\u001b[0m \u001b[0;32mif\u001b[0m \u001b[0mN\u001b[0m\u001b[0;34m>\u001b[0m\u001b[0;36m1\u001b[0m\u001b[0;34m:\u001b[0m\u001b[0;34m\u001b[0m\u001b[0;34m\u001b[0m\u001b[0m\n\u001b[1;32m     36\u001b[0m     \u001b[0;32mfor\u001b[0m \u001b[0mi\u001b[0m \u001b[0;32min\u001b[0m \u001b[0mrange\u001b[0m\u001b[0;34m(\u001b[0m\u001b[0mN\u001b[0m\u001b[0;34m)\u001b[0m\u001b[0;34m:\u001b[0m\u001b[0;34m\u001b[0m\u001b[0;34m\u001b[0m\u001b[0m\n\u001b[0;32m---> 37\u001b[0;31m         \u001b[0mreceive_x\u001b[0m \u001b[0;34m,\u001b[0m \u001b[0mreceive_y\u001b[0m \u001b[0;34m=\u001b[0m \u001b[0mreceive\u001b[0m\u001b[0;34m[\u001b[0m\u001b[0;34m:\u001b[0m\u001b[0;34m,\u001b[0m\u001b[0;36m2\u001b[0m\u001b[0;34m*\u001b[0m\u001b[0mi\u001b[0m\u001b[0;34m]\u001b[0m\u001b[0;34m,\u001b[0m\u001b[0mreceive\u001b[0m\u001b[0;34m[\u001b[0m\u001b[0;34m:\u001b[0m\u001b[0;34m,\u001b[0m\u001b[0;36m2\u001b[0m\u001b[0;34m*\u001b[0m\u001b[0mi\u001b[0m\u001b[0;34m+\u001b[0m\u001b[0;36m1\u001b[0m\u001b[0;34m]\u001b[0m\u001b[0;34m\u001b[0m\u001b[0;34m\u001b[0m\u001b[0m\n\u001b[0m\u001b[1;32m     38\u001b[0m         \u001b[0max\u001b[0m\u001b[0;34m[\u001b[0m\u001b[0mi\u001b[0m\u001b[0;34m]\u001b[0m\u001b[0;34m.\u001b[0m\u001b[0mscatter\u001b[0m\u001b[0;34m(\u001b[0m\u001b[0mreceive_x\u001b[0m\u001b[0;34m,\u001b[0m\u001b[0mreceive_y\u001b[0m\u001b[0;34m,\u001b[0m\u001b[0ms\u001b[0m\u001b[0;34m=\u001b[0m\u001b[0;36m30\u001b[0m\u001b[0;34m)\u001b[0m\u001b[0;34m\u001b[0m\u001b[0;34m\u001b[0m\u001b[0m\n\u001b[1;32m     39\u001b[0m         \u001b[0max\u001b[0m\u001b[0;34m[\u001b[0m\u001b[0mi\u001b[0m\u001b[0;34m]\u001b[0m\u001b[0;34m.\u001b[0m\u001b[0mset_title\u001b[0m\u001b[0;34m(\u001b[0m\u001b[0;34mf\"Symbol number {1+i}\"\u001b[0m\u001b[0;34m)\u001b[0m\u001b[0;34m\u001b[0m\u001b[0;34m\u001b[0m\u001b[0m\n",
            "\u001b[0;32m/usr/local/lib/python3.10/dist-packages/tensorflow/python/util/traceback_utils.py\u001b[0m in \u001b[0;36merror_handler\u001b[0;34m(*args, **kwargs)\u001b[0m\n\u001b[1;32m    151\u001b[0m     \u001b[0;32mexcept\u001b[0m \u001b[0mException\u001b[0m \u001b[0;32mas\u001b[0m \u001b[0me\u001b[0m\u001b[0;34m:\u001b[0m\u001b[0;34m\u001b[0m\u001b[0;34m\u001b[0m\u001b[0m\n\u001b[1;32m    152\u001b[0m       \u001b[0mfiltered_tb\u001b[0m \u001b[0;34m=\u001b[0m \u001b[0m_process_traceback_frames\u001b[0m\u001b[0;34m(\u001b[0m\u001b[0me\u001b[0m\u001b[0;34m.\u001b[0m\u001b[0m__traceback__\u001b[0m\u001b[0;34m)\u001b[0m\u001b[0;34m\u001b[0m\u001b[0;34m\u001b[0m\u001b[0m\n\u001b[0;32m--> 153\u001b[0;31m       \u001b[0;32mraise\u001b[0m \u001b[0me\u001b[0m\u001b[0;34m.\u001b[0m\u001b[0mwith_traceback\u001b[0m\u001b[0;34m(\u001b[0m\u001b[0mfiltered_tb\u001b[0m\u001b[0;34m)\u001b[0m \u001b[0;32mfrom\u001b[0m \u001b[0;32mNone\u001b[0m\u001b[0;34m\u001b[0m\u001b[0;34m\u001b[0m\u001b[0m\n\u001b[0m\u001b[1;32m    154\u001b[0m     \u001b[0;32mfinally\u001b[0m\u001b[0;34m:\u001b[0m\u001b[0;34m\u001b[0m\u001b[0;34m\u001b[0m\u001b[0m\n\u001b[1;32m    155\u001b[0m       \u001b[0;32mdel\u001b[0m \u001b[0mfiltered_tb\u001b[0m\u001b[0;34m\u001b[0m\u001b[0;34m\u001b[0m\u001b[0m\n",
            "\u001b[0;32m/usr/local/lib/python3.10/dist-packages/tensorflow/python/framework/ops.py\u001b[0m in \u001b[0;36mraise_from_not_ok_status\u001b[0;34m(e, name)\u001b[0m\n\u001b[1;32m   5981\u001b[0m \u001b[0;32mdef\u001b[0m \u001b[0mraise_from_not_ok_status\u001b[0m\u001b[0;34m(\u001b[0m\u001b[0me\u001b[0m\u001b[0;34m,\u001b[0m \u001b[0mname\u001b[0m\u001b[0;34m)\u001b[0m \u001b[0;34m->\u001b[0m \u001b[0mNoReturn\u001b[0m\u001b[0;34m:\u001b[0m\u001b[0;34m\u001b[0m\u001b[0;34m\u001b[0m\u001b[0m\n\u001b[1;32m   5982\u001b[0m   \u001b[0me\u001b[0m\u001b[0;34m.\u001b[0m\u001b[0mmessage\u001b[0m \u001b[0;34m+=\u001b[0m \u001b[0;34m(\u001b[0m\u001b[0;34m\" name: \"\u001b[0m \u001b[0;34m+\u001b[0m \u001b[0mstr\u001b[0m\u001b[0;34m(\u001b[0m\u001b[0mname\u001b[0m \u001b[0;32mif\u001b[0m \u001b[0mname\u001b[0m \u001b[0;32mis\u001b[0m \u001b[0;32mnot\u001b[0m \u001b[0;32mNone\u001b[0m \u001b[0;32melse\u001b[0m \u001b[0;34m\"\"\u001b[0m\u001b[0;34m)\u001b[0m\u001b[0;34m)\u001b[0m\u001b[0;34m\u001b[0m\u001b[0;34m\u001b[0m\u001b[0m\n\u001b[0;32m-> 5983\u001b[0;31m   \u001b[0;32mraise\u001b[0m \u001b[0mcore\u001b[0m\u001b[0;34m.\u001b[0m\u001b[0m_status_to_exception\u001b[0m\u001b[0;34m(\u001b[0m\u001b[0me\u001b[0m\u001b[0;34m)\u001b[0m \u001b[0;32mfrom\u001b[0m \u001b[0;32mNone\u001b[0m  \u001b[0;31m# pylint: disable=protected-access\u001b[0m\u001b[0;34m\u001b[0m\u001b[0;34m\u001b[0m\u001b[0m\n\u001b[0m\u001b[1;32m   5984\u001b[0m \u001b[0;34m\u001b[0m\u001b[0m\n\u001b[1;32m   5985\u001b[0m \u001b[0;34m\u001b[0m\u001b[0m\n",
            "\u001b[0;31mInvalidArgumentError\u001b[0m: {{function_node __wrapped__StridedSlice_device_/job:localhost/replica:0/task:0/device:CPU:0}} slice index 2 of dimension 1 out of bounds. [Op:StridedSlice] name: strided_slice/"
          ]
        },
        {
          "output_type": "display_data",
          "data": {
            "text/plain": [
              "<Figure size 800x3200 with 4 Axes>"
            ],
            "image/png": "[encoded data removed]"
          },
          "metadata": {}
        },
        {
          "output_type": "display_data",
          "data": {
            "text/plain": [
              "<Figure size 500x1600 with 4 Axes>"
            ],
            "image/png": "[encoded data removed]"
          },
          "metadata": {}
        }
      ],
      "source": [
        "import tensorflow as tf\n",
        "from tensorflow.keras import Model\n",
        "import matplotlib.pyplot as plt\n",
        "\n",
        "# Assuming autoencoder_model is already defined and compiled\n",
        "\n",
        "# Get the input layer of the autoencoder\n",
        "input_layer = autoencoder_model.get_layer('Input')\n",
        "\n",
        "# Create the model\n",
        "before_channel = Model(inputs=input_layer.input,  # Use KerasTensor as input\n",
        "                       outputs=autoencoder_model.get_layer('normalization').output)\n",
        "After_channel = Model(inputs=input_layer.input,  # Use KerasTensor as input\n",
        "                       outputs=autoencoder_model.get_layer('noise').output)\n",
        "# Assuming `train_dataset` is already defined and is a valid input for the model\n",
        "enc = before_channel(train_dataset)\n",
        "receive = After_channel(train_dataset)\n",
        "print(enc)\n",
        "print(receive)\n",
        "# Plot the constellation points\n",
        "fig, ax = plt.subplots(N,figsize =(8,8*N))\n",
        "fig.suptitle(f\"Before channel EbNo = {10}, k={4}, Channel_uses ={N}\")\n",
        "if N>1:\n",
        "    for i in range(N):\n",
        "        enc_x , enc_y = enc[:,2*i],enc[:,2*i+1]\n",
        "        ax[i].scatter(enc_x,enc_y,s=30)\n",
        "        ax[i].set_title(f\"Symbol number {1+i}\")\n",
        "else:\n",
        "    enc_x , enc_y = enc[:,0],enc[:,1]\n",
        "    ax.scatter(enc_x,enc_y,s=30)\n",
        "    ax.set_title(f\"Symbol number {1}\")\n",
        "\n",
        "fig, ax = plt.subplots(N,figsize =(5,4*N))\n",
        "fig.suptitle(f\"after channel EbNo = {10}, k={4}, Channel_uses ={N}\")\n",
        "if N>1:\n",
        "    for i in range(N):\n",
        "        receive_x , receive_y = receive[:,2*i],receive[:,2*i+1]\n",
        "        ax[i].scatter(receive_x,receive_y,s=30)\n",
        "        ax[i].set_title(f\"Symbol number {1+i}\")\n",
        "else:\n",
        "    receive_x , receive_y = receive[:,0],receive[:,1]\n",
        "    ax.scatter(enc_x,enc_y,s=30)\n",
        "    ax.set_title(f\"Symbol number {1}\")\n",
        "print(enc[:1])"
      ]
    },
    {
      "cell_type": "markdown",
      "metadata": {
        "id": "5OdBR3VEScAu"
      },
      "source": [
        "## modified with plotting need to use th e complex conversionand pulse shaping"
      ]
    },
    {
      "cell_type": "code",
      "execution_count": null,
      "metadata": {
        "id": "mnvYAUa7OqHW"
      },
      "outputs": [],
      "source": [
        "import tensorflow as tf\n",
        "from tensorflow.keras.models import Sequential\n",
        "from tensorflow.keras.layers import Dense\n",
        "import numpy as np\n",
        "import math\n",
        "import matplotlib.pyplot as plt\n",
        "\n",
        "# Dataset Parameters\n",
        "N = 2   # Number of channel uses\n",
        "M = 16  # Number of total messages that can be transmitted\n",
        "K = int(math.ceil(np.log2(M)))  # Block size\n",
        "Eb_No = 10\n",
        "batch_size = 320\n",
        "\n",
        "# Create Dataset in one-hot vector\n",
        "alphabet_size = pow(2, K)\n",
        "alphabet = np.eye(alphabet_size, dtype='float32')\n",
        "\n",
        "train_dataset = np.tile(alphabet, (batch_size, 1))\n",
        "test_dataset = np.tile(alphabet, (batch_size * 1000, 1))\n",
        "\n",
        "# Normalization Layer\n",
        "class Normalization(tf.keras.layers.Layer):\n",
        "    def __init__(self, **kwargs):\n",
        "        super(Normalization, self).__init__(**kwargs)\n",
        "        self.input_data = None\n",
        "        self.output_data = None\n",
        "\n",
        "    def call(self, input):\n",
        "        self.input_data = input.numpy() if tf.executing_eagerly() else None\n",
        "        shape = tf.shape(input)\n",
        "        out = tf.nn.l2_normalize(tf.reshape(input, (-1, shape[-1])), axis=-1, epsilon=1e-5)\n",
        "        out = tf.reshape(out, shape)\n",
        "        self.output_data = out.numpy() if tf.executing_eagerly() else None\n",
        "        print(\" Normalize each input power to 1 \")\n",
        "        return out\n",
        "\n",
        "    def get_config(self):\n",
        "        return super(Normalization, self).get_config()\n",
        "\n",
        "# Custom Noise Layer\n",
        "class CustomNoise(tf.keras.layers.Layer):\n",
        "    def __init__(self, mean=0.0, stddev=1.0, **kwargs):\n",
        "        super(CustomNoise, self).__init__(**kwargs)\n",
        "        self.mean = mean\n",
        "        self.stddev = stddev\n",
        "\n",
        "    def call(self, inputs):\n",
        "        noise = tf.random.normal(shape=tf.shape(inputs), mean=self.mean, stddev=self.stddev)\n",
        "        return inputs + noise\n",
        "\n",
        "# Autoencoder Class\n",
        "class AE:\n",
        "    def __init__(self, train_data=train_dataset, test_data=test_dataset, input_dim=K, enc_dim=N, act_fun='relu'):\n",
        "        self.train_data = train_data\n",
        "        self.test_data = test_data\n",
        "        self.input_dim = input_dim\n",
        "        self.enc_dim = enc_dim\n",
        "        self.act_fun = act_fun\n",
        "        self.normalization_layer = Normalization()\n",
        "\n",
        "    def AE_implement(self):\n",
        "        autoencoder = Sequential([\n",
        "            Dense(2**(self.input_dim), activation=self.act_fun, name=\"Input\"),\n",
        "            Dense(2**(self.input_dim), activation=self.act_fun, name=\"encoder\"),\n",
        "            Dense(2**(self.input_dim), activation=self.act_fun, name=\"middle1\"),\n",
        "            Dense(self.enc_dim*2, activation=self.act_fun, name='middle2'),\n",
        "            # Normalization Layer\n",
        "            self.normalization_layer,\n",
        "            # Channel Layer\n",
        "            CustomNoise(),\n",
        "\n",
        "            # Decoder layers\n",
        "            Dense(self.enc_dim*2, activation=self.act_fun, name=\"decoder1\"),\n",
        "            Dense(2**(self.input_dim), activation=self.act_fun, name='decoder2'),\n",
        "            Dense(2**(self.input_dim), activation='softmax', name='Output')\n",
        "        ])\n",
        "\n",
        "        autoencoder.compile(optimizer='adam', loss='categorical_crossentropy', metrics=['accuracy'])\n",
        "        return autoencoder\n",
        "\n",
        "    def train(self, epochs=10, batch_size=32):\n",
        "        autoencoder = self.AE_implement()\n",
        "        autoencoder.fit(self.train_data, self.train_data,\n",
        "                        epochs=epochs, batch_size=batch_size,\n",
        "                        validation_data=(self.test_data, self.test_data))\n",
        "        return autoencoder\n",
        "\n",
        "    def plot_normalization(self):\n",
        "        input_data = self.normalization_layer.input_data\n",
        "        output_data = self.normalization_layer.output_data\n",
        "\n",
        "        if input_data is not None and output_data is not None:\n",
        "            plt.figure(figsize=(12, 6))\n",
        "            plt.subplot(1, 2, 1)\n",
        "            plt.title(\"Normalization Layer Input\")\n",
        "            plt.plot(input_data.flatten(), 'r')\n",
        "            plt.subplot(1, 2, 2)\n",
        "            plt.title(\"Normalization Layer Output\")\n",
        "            plt.plot(output_data.flatten(), 'b')\n",
        "            plt.show()\n",
        "\n",
        "# Instantiate the AE class and train the model\n",
        "ae = AE(train_data=train_dataset, test_data=test_dataset, input_dim=K, enc_dim=N, act_fun='tanh')\n",
        "autoencoder_model = ae.train(epochs=20, batch_size=batch_size)\n",
        "\n",
        "# Evaluate the model on the test data\n",
        "loss, accuracy = autoencoder_model.evaluate(test_dataset, test_dataset)\n",
        "print(f\"Test Loss: {loss:.4f}, Test Accuracy: {accuracy:.4f}\")\n",
        "\n",
        "# Plot the input and output of the normalization layer\n",
        "ae.plot_normalization()\n"
      ]
    },
    {
      "cell_type": "markdown",
      "metadata": {
        "id": "haiWE31BVoDP"
      },
      "source": [
        "# Constellation plotting New"
      ]
    },
    {
      "cell_type": "code",
      "execution_count": null,
      "metadata": {
        "colab": {
          "base_uri": "https://localhost:8080/"
        },
        "id": "bY1kCBDgVv-u",
        "outputId": "d30a880c-df0b-4827-a594-5bfc6461759d"
      },
      "outputs": [
        {
          "name": "stdout",
          "output_type": "stream",
          "text": [
            "[[1. 0. 0. ... 0. 0. 0.]\n",
            " [0. 1. 0. ... 0. 0. 0.]\n",
            " [0. 0. 1. ... 0. 0. 0.]\n",
            " ...\n",
            " [0. 0. 0. ... 1. 0. 0.]\n",
            " [0. 0. 0. ... 0. 1. 0.]\n",
            " [0. 0. 0. ... 0. 0. 1.]]\n",
            "(5120000, 16)\n"
          ]
        }
      ],
      "source": [
        "import tensorflow as tf\n",
        "from tensorflow.keras.models import Sequential\n",
        "from tensorflow.keras.layers import Dense\n",
        "import numpy as np\n",
        "import math\n",
        "import matplotlib.pyplot as plt\n",
        "\n",
        "# Dataset Parameters\n",
        "N = 2   # Number of channel uses\n",
        "M = 16  # Number of total messages that can be transmitted\n",
        "K = int(math.ceil(np.log2(M)))  # Block size\n",
        "Eb_No = 10\n",
        "batch_size = 320\n",
        "\n",
        "# Create Dataset in one-hot vector\n",
        "alphabet_size = pow(2, K)\n",
        "alphabet = np.eye(alphabet_size, dtype='float32')\n",
        "# alphabet = np.array([t for t in range(M)])\n",
        "\n",
        "\n",
        "train_dataset = np.tile(alphabet, (batch_size, 1))\n",
        "test_dataset = np.tile(alphabet, (batch_size *1000,1))\n",
        "def real_to_complex_tensor(inp_tensor):\n",
        "  inp_tensor = tf.reshape(inp_tensor, [-1, 2])\n",
        "  real_part = inp_tensor[:, 0]\n",
        "  imag_part = inp_tensor[:, 1]\n",
        "print((train_dataset))\n",
        "print((test_dataset.shape))"
      ]
    }
  ],
  "metadata": {
    "colab": {
      "collapsed_sections": [
        "ctyb2PyyUKUB"
      ],
      "provenance": [],
      "include_colab_link": true
    },
    "kernelspec": {
      "display_name": "Python 3",
      "name": "python3"
    },
    "language_info": {
      "name": "python"
    }
  },
  "nbformat": 4,
  "nbformat_minor": 0
}